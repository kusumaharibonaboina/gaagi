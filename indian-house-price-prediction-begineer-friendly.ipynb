{
 "cells": [
  {
   "cell_type": "code",
   "execution_count": 1,
   "id": "empty-defeat",
   "metadata": {
    "_cell_guid": "b1076dfc-b9ad-4769-8c92-a6c4dae69d19",
    "_uuid": "8f2839f25d086af736a60e9eeb907d3b93b6e0e5",
    "execution": {
     "iopub.execute_input": "2021-06-01T19:21:19.609555Z",
     "iopub.status.busy": "2021-06-01T19:21:19.607729Z",
     "iopub.status.idle": "2021-06-01T19:21:20.775927Z",
     "shell.execute_reply": "2021-06-01T19:21:20.776695Z",
     "shell.execute_reply.started": "2021-06-01T18:31:35.687287Z"
    },
    "papermill": {
     "duration": 1.21384,
     "end_time": "2021-06-01T19:21:20.777057",
     "exception": false,
     "start_time": "2021-06-01T19:21:19.563217",
     "status": "completed"
    },
    "tags": []
   },
   "outputs": [
    {
     "name": "stdout",
     "output_type": "stream",
     "text": [
      "/kaggle/input/house-price-prediction-challenge/sample_submission.csv\n",
      "/kaggle/input/house-price-prediction-challenge/train.csv\n",
      "/kaggle/input/house-price-prediction-challenge/test.csv\n"
     ]
    }
   ],
   "source": [
    "# This Python 3 environment comes with many helpful analytics libraries installed\n",
    "# It is defined by the kaggle/python Docker image: https://github.com/kaggle/docker-python\n",
    "# For example, here's several helpful packages to load\n",
    "\n",
    "import numpy as np # linear algebra\n",
    "import pandas as pd # data processing, CSV file I/O (e.g. pd.read_csv)\n",
    "import matplotlib.pyplot as plt\n",
    "import seaborn as sns\n",
    "sns.set_style('darkgrid')\n",
    "import warnings\n",
    "warnings.filterwarnings('ignore')\n",
    "\n",
    "import re\n",
    "# Input data files are available in the read-only \"../input/\" directory\n",
    "# For example, running this (by clicking run or pressing Shift+Enter) will list all files under the input directory\n",
    "\n",
    "import os\n",
    "for dirname, _, filenames in os.walk('/kaggle/input'):\n",
    "    for filename in filenames:\n",
    "        print(os.path.join(dirname, filename))\n",
    "\n",
    "# You can write up to 20GB to the current directory (/kaggle/working/) that gets preserved as output when you create a version using \"Save & Run All\" \n",
    "# You can also write temporary files to /kaggle/temp/, but they won't be saved outside of the current session"
   ]
  },
  {
   "cell_type": "markdown",
   "id": "extreme-tuner",
   "metadata": {
    "papermill": {
     "duration": 0.041463,
     "end_time": "2021-06-01T19:21:20.864360",
     "exception": false,
     "start_time": "2021-06-01T19:21:20.822897",
     "status": "completed"
    },
    "tags": []
   },
   "source": [
    "# Load Data"
   ]
  },
  {
   "cell_type": "code",
   "execution_count": 2,
   "id": "lyric-catering",
   "metadata": {
    "execution": {
     "iopub.execute_input": "2021-06-01T19:21:20.954388Z",
     "iopub.status.busy": "2021-06-01T19:21:20.953667Z",
     "iopub.status.idle": "2021-06-01T19:21:21.119243Z",
     "shell.execute_reply": "2021-06-01T19:21:21.117967Z",
     "shell.execute_reply.started": "2021-06-01T18:31:35.703568Z"
    },
    "papermill": {
     "duration": 0.209532,
     "end_time": "2021-06-01T19:21:21.119406",
     "exception": false,
     "start_time": "2021-06-01T19:21:20.909874",
     "status": "completed"
    },
    "tags": []
   },
   "outputs": [
    {
     "data": {
      "text/html": [
       "<div>\n",
       "<style scoped>\n",
       "    .dataframe tbody tr th:only-of-type {\n",
       "        vertical-align: middle;\n",
       "    }\n",
       "\n",
       "    .dataframe tbody tr th {\n",
       "        vertical-align: top;\n",
       "    }\n",
       "\n",
       "    .dataframe thead th {\n",
       "        text-align: right;\n",
       "    }\n",
       "</style>\n",
       "<table border=\"1\" class=\"dataframe\">\n",
       "  <thead>\n",
       "    <tr style=\"text-align: right;\">\n",
       "      <th></th>\n",
       "      <th>POSTED_BY</th>\n",
       "      <th>UNDER_CONSTRUCTION</th>\n",
       "      <th>RERA</th>\n",
       "      <th>BHK_NO.</th>\n",
       "      <th>BHK_OR_RK</th>\n",
       "      <th>SQUARE_FT</th>\n",
       "      <th>READY_TO_MOVE</th>\n",
       "      <th>RESALE</th>\n",
       "      <th>ADDRESS</th>\n",
       "      <th>LONGITUDE</th>\n",
       "      <th>LATITUDE</th>\n",
       "      <th>TARGET(PRICE_IN_LACS)</th>\n",
       "    </tr>\n",
       "  </thead>\n",
       "  <tbody>\n",
       "    <tr>\n",
       "      <th>0</th>\n",
       "      <td>Owner</td>\n",
       "      <td>0</td>\n",
       "      <td>0</td>\n",
       "      <td>2</td>\n",
       "      <td>BHK</td>\n",
       "      <td>1300.236407</td>\n",
       "      <td>1</td>\n",
       "      <td>1</td>\n",
       "      <td>Ksfc Layout,Bangalore</td>\n",
       "      <td>12.969910</td>\n",
       "      <td>77.597960</td>\n",
       "      <td>55.0</td>\n",
       "    </tr>\n",
       "    <tr>\n",
       "      <th>1</th>\n",
       "      <td>Dealer</td>\n",
       "      <td>0</td>\n",
       "      <td>0</td>\n",
       "      <td>2</td>\n",
       "      <td>BHK</td>\n",
       "      <td>1275.000000</td>\n",
       "      <td>1</td>\n",
       "      <td>1</td>\n",
       "      <td>Vishweshwara Nagar,Mysore</td>\n",
       "      <td>12.274538</td>\n",
       "      <td>76.644605</td>\n",
       "      <td>51.0</td>\n",
       "    </tr>\n",
       "    <tr>\n",
       "      <th>2</th>\n",
       "      <td>Owner</td>\n",
       "      <td>0</td>\n",
       "      <td>0</td>\n",
       "      <td>2</td>\n",
       "      <td>BHK</td>\n",
       "      <td>933.159722</td>\n",
       "      <td>1</td>\n",
       "      <td>1</td>\n",
       "      <td>Jigani,Bangalore</td>\n",
       "      <td>12.778033</td>\n",
       "      <td>77.632191</td>\n",
       "      <td>43.0</td>\n",
       "    </tr>\n",
       "    <tr>\n",
       "      <th>3</th>\n",
       "      <td>Owner</td>\n",
       "      <td>0</td>\n",
       "      <td>1</td>\n",
       "      <td>2</td>\n",
       "      <td>BHK</td>\n",
       "      <td>929.921143</td>\n",
       "      <td>1</td>\n",
       "      <td>1</td>\n",
       "      <td>Sector-1 Vaishali,Ghaziabad</td>\n",
       "      <td>28.642300</td>\n",
       "      <td>77.344500</td>\n",
       "      <td>62.5</td>\n",
       "    </tr>\n",
       "    <tr>\n",
       "      <th>4</th>\n",
       "      <td>Dealer</td>\n",
       "      <td>1</td>\n",
       "      <td>0</td>\n",
       "      <td>2</td>\n",
       "      <td>BHK</td>\n",
       "      <td>999.009247</td>\n",
       "      <td>0</td>\n",
       "      <td>1</td>\n",
       "      <td>New Town,Kolkata</td>\n",
       "      <td>22.592200</td>\n",
       "      <td>88.484911</td>\n",
       "      <td>60.5</td>\n",
       "    </tr>\n",
       "  </tbody>\n",
       "</table>\n",
       "</div>"
      ],
      "text/plain": [
       "  POSTED_BY  UNDER_CONSTRUCTION  RERA  BHK_NO. BHK_OR_RK    SQUARE_FT  \\\n",
       "0     Owner                   0     0        2       BHK  1300.236407   \n",
       "1    Dealer                   0     0        2       BHK  1275.000000   \n",
       "2     Owner                   0     0        2       BHK   933.159722   \n",
       "3     Owner                   0     1        2       BHK   929.921143   \n",
       "4    Dealer                   1     0        2       BHK   999.009247   \n",
       "\n",
       "   READY_TO_MOVE  RESALE                      ADDRESS  LONGITUDE   LATITUDE  \\\n",
       "0              1       1        Ksfc Layout,Bangalore  12.969910  77.597960   \n",
       "1              1       1    Vishweshwara Nagar,Mysore  12.274538  76.644605   \n",
       "2              1       1             Jigani,Bangalore  12.778033  77.632191   \n",
       "3              1       1  Sector-1 Vaishali,Ghaziabad  28.642300  77.344500   \n",
       "4              0       1             New Town,Kolkata  22.592200  88.484911   \n",
       "\n",
       "   TARGET(PRICE_IN_LACS)  \n",
       "0                   55.0  \n",
       "1                   51.0  \n",
       "2                   43.0  \n",
       "3                   62.5  \n",
       "4                   60.5  "
      ]
     },
     "execution_count": 2,
     "metadata": {},
     "output_type": "execute_result"
    }
   ],
   "source": [
    "train= pd.read_csv('/kaggle/input/house-price-prediction-challenge/train.csv')\n",
    "train.head()"
   ]
  },
  {
   "cell_type": "code",
   "execution_count": 3,
   "id": "reflected-plant",
   "metadata": {
    "execution": {
     "iopub.execute_input": "2021-06-01T19:21:21.201635Z",
     "iopub.status.busy": "2021-06-01T19:21:21.200956Z",
     "iopub.status.idle": "2021-06-01T19:21:21.233713Z",
     "shell.execute_reply": "2021-06-01T19:21:21.234256Z",
     "shell.execute_reply.started": "2021-06-01T18:31:35.783778Z"
    },
    "papermill": {
     "duration": 0.077852,
     "end_time": "2021-06-01T19:21:21.234453",
     "exception": false,
     "start_time": "2021-06-01T19:21:21.156601",
     "status": "completed"
    },
    "tags": []
   },
   "outputs": [
    {
     "name": "stdout",
     "output_type": "stream",
     "text": [
      "<class 'pandas.core.frame.DataFrame'>\n",
      "RangeIndex: 29451 entries, 0 to 29450\n",
      "Data columns (total 12 columns):\n",
      " #   Column                 Non-Null Count  Dtype  \n",
      "---  ------                 --------------  -----  \n",
      " 0   POSTED_BY              29451 non-null  object \n",
      " 1   UNDER_CONSTRUCTION     29451 non-null  int64  \n",
      " 2   RERA                   29451 non-null  int64  \n",
      " 3   BHK_NO.                29451 non-null  int64  \n",
      " 4   BHK_OR_RK              29451 non-null  object \n",
      " 5   SQUARE_FT              29451 non-null  float64\n",
      " 6   READY_TO_MOVE          29451 non-null  int64  \n",
      " 7   RESALE                 29451 non-null  int64  \n",
      " 8   ADDRESS                29451 non-null  object \n",
      " 9   LONGITUDE              29451 non-null  float64\n",
      " 10  LATITUDE               29451 non-null  float64\n",
      " 11  TARGET(PRICE_IN_LACS)  29451 non-null  float64\n",
      "dtypes: float64(4), int64(5), object(3)\n",
      "memory usage: 2.7+ MB\n"
     ]
    }
   ],
   "source": [
    "train.info()"
   ]
  },
  {
   "cell_type": "code",
   "execution_count": 4,
   "id": "limiting-jewel",
   "metadata": {
    "execution": {
     "iopub.execute_input": "2021-06-01T19:21:21.312911Z",
     "iopub.status.busy": "2021-06-01T19:21:21.312223Z",
     "iopub.status.idle": "2021-06-01T19:21:21.533333Z",
     "shell.execute_reply": "2021-06-01T19:21:21.532811Z",
     "shell.execute_reply.started": "2021-06-01T18:31:35.811556Z"
    },
    "papermill": {
     "duration": 0.261561,
     "end_time": "2021-06-01T19:21:21.533499",
     "exception": false,
     "start_time": "2021-06-01T19:21:21.271938",
     "status": "completed"
    },
    "tags": []
   },
   "outputs": [
    {
     "data": {
      "text/html": [
       "<div>\n",
       "<style scoped>\n",
       "    .dataframe tbody tr th:only-of-type {\n",
       "        vertical-align: middle;\n",
       "    }\n",
       "\n",
       "    .dataframe tbody tr th {\n",
       "        vertical-align: top;\n",
       "    }\n",
       "\n",
       "    .dataframe thead th {\n",
       "        text-align: right;\n",
       "    }\n",
       "</style>\n",
       "<table border=\"1\" class=\"dataframe\">\n",
       "  <thead>\n",
       "    <tr style=\"text-align: right;\">\n",
       "      <th></th>\n",
       "      <th>POSTED_BY</th>\n",
       "      <th>UNDER_CONSTRUCTION</th>\n",
       "      <th>RERA</th>\n",
       "      <th>BHK_NO.</th>\n",
       "      <th>BHK_OR_RK</th>\n",
       "      <th>SQUARE_FT</th>\n",
       "      <th>READY_TO_MOVE</th>\n",
       "      <th>RESALE</th>\n",
       "      <th>ADDRESS</th>\n",
       "      <th>LONGITUDE</th>\n",
       "      <th>LATITUDE</th>\n",
       "    </tr>\n",
       "  </thead>\n",
       "  <tbody>\n",
       "    <tr>\n",
       "      <th>0</th>\n",
       "      <td>Owner</td>\n",
       "      <td>0</td>\n",
       "      <td>0</td>\n",
       "      <td>1</td>\n",
       "      <td>BHK</td>\n",
       "      <td>545.171340</td>\n",
       "      <td>1</td>\n",
       "      <td>1</td>\n",
       "      <td>Kamrej,Surat</td>\n",
       "      <td>21.262000</td>\n",
       "      <td>73.047700</td>\n",
       "    </tr>\n",
       "    <tr>\n",
       "      <th>1</th>\n",
       "      <td>Dealer</td>\n",
       "      <td>1</td>\n",
       "      <td>1</td>\n",
       "      <td>2</td>\n",
       "      <td>BHK</td>\n",
       "      <td>800.000000</td>\n",
       "      <td>0</td>\n",
       "      <td>0</td>\n",
       "      <td>Panvel,Lalitpur</td>\n",
       "      <td>18.966114</td>\n",
       "      <td>73.148278</td>\n",
       "    </tr>\n",
       "    <tr>\n",
       "      <th>2</th>\n",
       "      <td>Dealer</td>\n",
       "      <td>0</td>\n",
       "      <td>0</td>\n",
       "      <td>2</td>\n",
       "      <td>BHK</td>\n",
       "      <td>1257.096513</td>\n",
       "      <td>1</td>\n",
       "      <td>1</td>\n",
       "      <td>New Town,Kolkata</td>\n",
       "      <td>22.592200</td>\n",
       "      <td>88.484911</td>\n",
       "    </tr>\n",
       "    <tr>\n",
       "      <th>3</th>\n",
       "      <td>Dealer</td>\n",
       "      <td>0</td>\n",
       "      <td>0</td>\n",
       "      <td>3</td>\n",
       "      <td>BHK</td>\n",
       "      <td>1400.329489</td>\n",
       "      <td>1</td>\n",
       "      <td>1</td>\n",
       "      <td>Kalwar Road,Jaipur</td>\n",
       "      <td>26.988300</td>\n",
       "      <td>75.584600</td>\n",
       "    </tr>\n",
       "    <tr>\n",
       "      <th>4</th>\n",
       "      <td>Owner</td>\n",
       "      <td>0</td>\n",
       "      <td>0</td>\n",
       "      <td>1</td>\n",
       "      <td>BHK</td>\n",
       "      <td>430.477830</td>\n",
       "      <td>1</td>\n",
       "      <td>1</td>\n",
       "      <td>Mai Mandir,Nadiad</td>\n",
       "      <td>22.700000</td>\n",
       "      <td>72.870000</td>\n",
       "    </tr>\n",
       "  </tbody>\n",
       "</table>\n",
       "</div>"
      ],
      "text/plain": [
       "  POSTED_BY  UNDER_CONSTRUCTION  RERA  BHK_NO. BHK_OR_RK    SQUARE_FT  \\\n",
       "0     Owner                   0     0        1       BHK   545.171340   \n",
       "1    Dealer                   1     1        2       BHK   800.000000   \n",
       "2    Dealer                   0     0        2       BHK  1257.096513   \n",
       "3    Dealer                   0     0        3       BHK  1400.329489   \n",
       "4     Owner                   0     0        1       BHK   430.477830   \n",
       "\n",
       "   READY_TO_MOVE  RESALE             ADDRESS  LONGITUDE   LATITUDE  \n",
       "0              1       1        Kamrej,Surat  21.262000  73.047700  \n",
       "1              0       0     Panvel,Lalitpur  18.966114  73.148278  \n",
       "2              1       1    New Town,Kolkata  22.592200  88.484911  \n",
       "3              1       1  Kalwar Road,Jaipur  26.988300  75.584600  \n",
       "4              1       1   Mai Mandir,Nadiad  22.700000  72.870000  "
      ]
     },
     "execution_count": 4,
     "metadata": {},
     "output_type": "execute_result"
    }
   ],
   "source": [
    "test= pd.read_csv('/kaggle/input/house-price-prediction-challenge/test.csv')\n",
    "test.head()"
   ]
  },
  {
   "cell_type": "code",
   "execution_count": 5,
   "id": "suitable-conviction",
   "metadata": {
    "execution": {
     "iopub.execute_input": "2021-06-01T19:21:21.622076Z",
     "iopub.status.busy": "2021-06-01T19:21:21.621391Z",
     "iopub.status.idle": "2021-06-01T19:21:21.625575Z",
     "shell.execute_reply": "2021-06-01T19:21:21.626038Z",
     "shell.execute_reply.started": "2021-06-01T18:31:35.945886Z"
    },
    "papermill": {
     "duration": 0.054715,
     "end_time": "2021-06-01T19:21:21.626214",
     "exception": false,
     "start_time": "2021-06-01T19:21:21.571499",
     "status": "completed"
    },
    "tags": []
   },
   "outputs": [
    {
     "data": {
      "text/plain": [
       "Dealer     18291\n",
       "Owner      10538\n",
       "Builder      622\n",
       "Name: POSTED_BY, dtype: int64"
      ]
     },
     "execution_count": 5,
     "metadata": {},
     "output_type": "execute_result"
    }
   ],
   "source": [
    "train['POSTED_BY'].value_counts()"
   ]
  },
  {
   "cell_type": "code",
   "execution_count": 6,
   "id": "logical-colonial",
   "metadata": {
    "execution": {
     "iopub.execute_input": "2021-06-01T19:21:21.719314Z",
     "iopub.status.busy": "2021-06-01T19:21:21.718616Z",
     "iopub.status.idle": "2021-06-01T19:21:21.726868Z",
     "shell.execute_reply": "2021-06-01T19:21:21.725962Z",
     "shell.execute_reply.started": "2021-06-01T18:31:35.962621Z"
    },
    "papermill": {
     "duration": 0.062134,
     "end_time": "2021-06-01T19:21:21.727043",
     "exception": false,
     "start_time": "2021-06-01T19:21:21.664909",
     "status": "completed"
    },
    "tags": []
   },
   "outputs": [
    {
     "data": {
      "text/plain": [
       "POSTED_BY                0\n",
       "UNDER_CONSTRUCTION       0\n",
       "RERA                     0\n",
       "BHK_NO.                  0\n",
       "BHK_OR_RK                0\n",
       "SQUARE_FT                0\n",
       "READY_TO_MOVE            0\n",
       "RESALE                   0\n",
       "ADDRESS                  0\n",
       "LONGITUDE                0\n",
       "LATITUDE                 0\n",
       "TARGET(PRICE_IN_LACS)    0\n",
       "dtype: int64"
      ]
     },
     "execution_count": 6,
     "metadata": {},
     "output_type": "execute_result"
    }
   ],
   "source": [
    "train.isna().sum()"
   ]
  },
  {
   "cell_type": "code",
   "execution_count": 7,
   "id": "associate-handbook",
   "metadata": {
    "execution": {
     "iopub.execute_input": "2021-06-01T19:21:21.833088Z",
     "iopub.status.busy": "2021-06-01T19:21:21.814264Z",
     "iopub.status.idle": "2021-06-01T19:21:21.842107Z",
     "shell.execute_reply": "2021-06-01T19:21:21.841445Z",
     "shell.execute_reply.started": "2021-06-01T18:31:35.989428Z"
    },
    "papermill": {
     "duration": 0.075655,
     "end_time": "2021-06-01T19:21:21.842277",
     "exception": false,
     "start_time": "2021-06-01T19:21:21.766622",
     "status": "completed"
    },
    "tags": []
   },
   "outputs": [
    {
     "data": {
      "text/plain": [
       "POSTED_BY             0\n",
       "UNDER_CONSTRUCTION    0\n",
       "RERA                  0\n",
       "BHK_NO.               0\n",
       "BHK_OR_RK             0\n",
       "SQUARE_FT             0\n",
       "READY_TO_MOVE         0\n",
       "RESALE                0\n",
       "ADDRESS               0\n",
       "LONGITUDE             0\n",
       "LATITUDE              0\n",
       "dtype: int64"
      ]
     },
     "execution_count": 7,
     "metadata": {},
     "output_type": "execute_result"
    }
   ],
   "source": [
    "test.isna().sum()"
   ]
  },
  {
   "cell_type": "markdown",
   "id": "corresponding-metallic",
   "metadata": {
    "papermill": {
     "duration": 0.041137,
     "end_time": "2021-06-01T19:21:21.923608",
     "exception": false,
     "start_time": "2021-06-01T19:21:21.882471",
     "status": "completed"
    },
    "tags": []
   },
   "source": [
    "# EDA"
   ]
  },
  {
   "cell_type": "code",
   "execution_count": 8,
   "id": "adult-harvey",
   "metadata": {
    "execution": {
     "iopub.execute_input": "2021-06-01T19:21:22.032491Z",
     "iopub.status.busy": "2021-06-01T19:21:22.031810Z",
     "iopub.status.idle": "2021-06-01T19:21:23.108649Z",
     "shell.execute_reply": "2021-06-01T19:21:23.108049Z",
     "shell.execute_reply.started": "2021-06-01T18:31:36.024153Z"
    },
    "papermill": {
     "duration": 1.143566,
     "end_time": "2021-06-01T19:21:23.108806",
     "exception": false,
     "start_time": "2021-06-01T19:21:21.965240",
     "status": "completed"
    },
    "tags": []
   },
   "outputs": [
    {
     "data": {
      "image/png": "[encoded data removed]",
      "text/plain": [
       "<Figure size 1440x1080 with 7 Axes>"
      ]
     },
     "metadata": {},
     "output_type": "display_data"
    }
   ],
   "source": [
    "i=1\n",
    "plt.figure(figsize=(20,15))\n",
    "for col in ['POSTED_BY', 'UNDER_CONSTRUCTION', 'RERA', 'BHK_NO.', 'BHK_OR_RK', 'READY_TO_MOVE', 'RESALE']:\n",
    "    plt.subplot(4,2,i)\n",
    "    sns.countplot(train[col])\n",
    "    i+=1"
   ]
  },
  {
   "cell_type": "code",
   "execution_count": 9,
   "id": "printable-lambda",
   "metadata": {
    "execution": {
     "iopub.execute_input": "2021-06-01T19:21:23.204781Z",
     "iopub.status.busy": "2021-06-01T19:21:23.204067Z",
     "iopub.status.idle": "2021-06-01T19:21:23.207481Z",
     "shell.execute_reply": "2021-06-01T19:21:23.206832Z",
     "shell.execute_reply.started": "2021-06-01T18:31:37.163891Z"
    },
    "papermill": {
     "duration": 0.058679,
     "end_time": "2021-06-01T19:21:23.207639",
     "exception": false,
     "start_time": "2021-06-01T19:21:23.148960",
     "status": "completed"
    },
    "tags": []
   },
   "outputs": [
    {
     "data": {
      "text/plain": [
       "BHK    29427\n",
       "RK        24\n",
       "Name: BHK_OR_RK, dtype: int64"
      ]
     },
     "execution_count": 9,
     "metadata": {},
     "output_type": "execute_result"
    }
   ],
   "source": [
    "train['BHK_OR_RK'].value_counts()"
   ]
  },
  {
   "cell_type": "code",
   "execution_count": 10,
   "id": "technological-quality",
   "metadata": {
    "execution": {
     "iopub.execute_input": "2021-06-01T19:21:23.298274Z",
     "iopub.status.busy": "2021-06-01T19:21:23.297619Z",
     "iopub.status.idle": "2021-06-01T19:21:23.321551Z",
     "shell.execute_reply": "2021-06-01T19:21:23.322181Z",
     "shell.execute_reply.started": "2021-06-01T18:31:37.181077Z"
    },
    "papermill": {
     "duration": 0.073315,
     "end_time": "2021-06-01T19:21:23.322383",
     "exception": false,
     "start_time": "2021-06-01T19:21:23.249068",
     "status": "completed"
    },
    "tags": []
   },
   "outputs": [
    {
     "data": {
      "text/plain": [
       "BHK    68662\n",
       "RK        58\n",
       "Name: BHK_OR_RK, dtype: int64"
      ]
     },
     "execution_count": 10,
     "metadata": {},
     "output_type": "execute_result"
    }
   ],
   "source": [
    "test['BHK_OR_RK'].value_counts()"
   ]
  },
  {
   "cell_type": "code",
   "execution_count": 11,
   "id": "annual-notice",
   "metadata": {
    "execution": {
     "iopub.execute_input": "2021-06-01T19:21:23.415895Z",
     "iopub.status.busy": "2021-06-01T19:21:23.415089Z",
     "iopub.status.idle": "2021-06-01T19:21:23.427456Z",
     "shell.execute_reply": "2021-06-01T19:21:23.426852Z",
     "shell.execute_reply.started": "2021-06-01T18:31:37.208049Z"
    },
    "papermill": {
     "duration": 0.060159,
     "end_time": "2021-06-01T19:21:23.427620",
     "exception": false,
     "start_time": "2021-06-01T19:21:23.367461",
     "status": "completed"
    },
    "tags": []
   },
   "outputs": [],
   "source": [
    "train.drop(['ADDRESS', 'BHK_OR_RK'], axis=1, inplace=True )\n",
    "test.drop(['ADDRESS', 'BHK_OR_RK'], axis=1, inplace=True )"
   ]
  },
  {
   "cell_type": "code",
   "execution_count": 12,
   "id": "protecting-delight",
   "metadata": {
    "execution": {
     "iopub.execute_input": "2021-06-01T19:21:23.517979Z",
     "iopub.status.busy": "2021-06-01T19:21:23.517270Z",
     "iopub.status.idle": "2021-06-01T19:21:23.539481Z",
     "shell.execute_reply": "2021-06-01T19:21:23.540029Z",
     "shell.execute_reply.started": "2021-06-01T18:31:37.224162Z"
    },
    "papermill": {
     "duration": 0.071153,
     "end_time": "2021-06-01T19:21:23.540213",
     "exception": false,
     "start_time": "2021-06-01T19:21:23.469060",
     "status": "completed"
    },
    "tags": []
   },
   "outputs": [
    {
     "name": "stdout",
     "output_type": "stream",
     "text": [
      "<class 'pandas.core.frame.DataFrame'>\n",
      "RangeIndex: 29451 entries, 0 to 29450\n",
      "Data columns (total 10 columns):\n",
      " #   Column                 Non-Null Count  Dtype  \n",
      "---  ------                 --------------  -----  \n",
      " 0   POSTED_BY              29451 non-null  object \n",
      " 1   UNDER_CONSTRUCTION     29451 non-null  int64  \n",
      " 2   RERA                   29451 non-null  int64  \n",
      " 3   BHK_NO.                29451 non-null  int64  \n",
      " 4   SQUARE_FT              29451 non-null  float64\n",
      " 5   READY_TO_MOVE          29451 non-null  int64  \n",
      " 6   RESALE                 29451 non-null  int64  \n",
      " 7   LONGITUDE              29451 non-null  float64\n",
      " 8   LATITUDE               29451 non-null  float64\n",
      " 9   TARGET(PRICE_IN_LACS)  29451 non-null  float64\n",
      "dtypes: float64(4), int64(5), object(1)\n",
      "memory usage: 2.2+ MB\n"
     ]
    }
   ],
   "source": [
    "train.info()"
   ]
  },
  {
   "cell_type": "code",
   "execution_count": 13,
   "id": "hungarian-satisfaction",
   "metadata": {
    "execution": {
     "iopub.execute_input": "2021-06-01T19:21:23.637795Z",
     "iopub.status.busy": "2021-06-01T19:21:23.636779Z",
     "iopub.status.idle": "2021-06-01T19:21:23.669467Z",
     "shell.execute_reply": "2021-06-01T19:21:23.670355Z",
     "shell.execute_reply.started": "2021-06-01T18:31:37.249406Z"
    },
    "papermill": {
     "duration": 0.085411,
     "end_time": "2021-06-01T19:21:23.670610",
     "exception": false,
     "start_time": "2021-06-01T19:21:23.585199",
     "status": "completed"
    },
    "tags": []
   },
   "outputs": [
    {
     "name": "stdout",
     "output_type": "stream",
     "text": [
      "<class 'pandas.core.frame.DataFrame'>\n",
      "RangeIndex: 68720 entries, 0 to 68719\n",
      "Data columns (total 9 columns):\n",
      " #   Column              Non-Null Count  Dtype  \n",
      "---  ------              --------------  -----  \n",
      " 0   POSTED_BY           68720 non-null  object \n",
      " 1   UNDER_CONSTRUCTION  68720 non-null  int64  \n",
      " 2   RERA                68720 non-null  int64  \n",
      " 3   BHK_NO.             68720 non-null  int64  \n",
      " 4   SQUARE_FT           68720 non-null  float64\n",
      " 5   READY_TO_MOVE       68720 non-null  int64  \n",
      " 6   RESALE              68720 non-null  int64  \n",
      " 7   LONGITUDE           68720 non-null  float64\n",
      " 8   LATITUDE            68720 non-null  float64\n",
      "dtypes: float64(3), int64(5), object(1)\n",
      "memory usage: 4.7+ MB\n"
     ]
    }
   ],
   "source": [
    "test.info()"
   ]
  },
  {
   "cell_type": "code",
   "execution_count": 14,
   "id": "lyric-browse",
   "metadata": {
    "execution": {
     "iopub.execute_input": "2021-06-01T19:21:23.788610Z",
     "iopub.status.busy": "2021-06-01T19:21:23.787462Z",
     "iopub.status.idle": "2021-06-01T19:21:26.364555Z",
     "shell.execute_reply": "2021-06-01T19:21:26.363457Z",
     "shell.execute_reply.started": "2021-06-01T18:31:37.276057Z"
    },
    "papermill": {
     "duration": 2.635846,
     "end_time": "2021-06-01T19:21:26.364750",
     "exception": false,
     "start_time": "2021-06-01T19:21:23.728904",
     "status": "completed"
    },
    "tags": []
   },
   "outputs": [
    {
     "data": {
      "text/plain": [
       "<AxesSubplot:xlabel='LATITUDE', ylabel='LONGITUDE'>"
      ]
     },
     "execution_count": 14,
     "metadata": {},
     "output_type": "execute_result"
    },
    {
     "data": {
      "image/png": "[encoded data removed]",
      "text/plain": [
       "<Figure size 432x288 with 1 Axes>"
      ]
     },
     "metadata": {},
     "output_type": "display_data"
    }
   ],
   "source": [
    "sns.scatterplot(x= 'LATITUDE', y= 'LONGITUDE', hue= 'TARGET(PRICE_IN_LACS)', data=train)"
   ]
  },
  {
   "cell_type": "code",
   "execution_count": 15,
   "id": "expired-reduction",
   "metadata": {
    "execution": {
     "iopub.execute_input": "2021-06-01T19:21:26.479382Z",
     "iopub.status.busy": "2021-06-01T19:21:26.478743Z",
     "iopub.status.idle": "2021-06-01T19:21:27.544508Z",
     "shell.execute_reply": "2021-06-01T19:21:27.545455Z",
     "shell.execute_reply.started": "2021-06-01T18:31:39.495287Z"
    },
    "papermill": {
     "duration": 1.117473,
     "end_time": "2021-06-01T19:21:27.545700",
     "exception": false,
     "start_time": "2021-06-01T19:21:26.428227",
     "status": "completed"
    },
    "tags": []
   },
   "outputs": [
    {
     "data": {
      "text/plain": [
       "<AxesSubplot:>"
      ]
     },
     "execution_count": 15,
     "metadata": {},
     "output_type": "execute_result"
    },
    {
     "data": {
      "image/png": "[encoded data removed]",
      "text/plain": [
       "<Figure size 864x720 with 2 Axes>"
      ]
     },
     "metadata": {},
     "output_type": "display_data"
    }
   ],
   "source": [
    "plt.figure(figsize=(12,10))\n",
    "sns.heatmap(train.corr(), annot=True, cmap='coolwarm')"
   ]
  },
  {
   "cell_type": "markdown",
   "id": "professional-jefferson",
   "metadata": {
    "papermill": {
     "duration": 0.048866,
     "end_time": "2021-06-01T19:21:27.647456",
     "exception": false,
     "start_time": "2021-06-01T19:21:27.598590",
     "status": "completed"
    },
    "tags": []
   },
   "source": [
    "# Preprocess"
   ]
  },
  {
   "cell_type": "markdown",
   "id": "expired-screening",
   "metadata": {
    "papermill": {
     "duration": 0.050924,
     "end_time": "2021-06-01T19:21:27.749771",
     "exception": false,
     "start_time": "2021-06-01T19:21:27.698847",
     "status": "completed"
    },
    "tags": []
   },
   "source": [
    "**Ready to Move and Under Construction are completely co-related. So we drop one of them to prevent overfitting**"
   ]
  },
  {
   "cell_type": "code",
   "execution_count": 16,
   "id": "metallic-cement",
   "metadata": {
    "execution": {
     "iopub.execute_input": "2021-06-01T19:21:27.848068Z",
     "iopub.status.busy": "2021-06-01T19:21:27.847054Z",
     "iopub.status.idle": "2021-06-01T19:21:27.858214Z",
     "shell.execute_reply": "2021-06-01T19:21:27.858792Z",
     "shell.execute_reply.started": "2021-06-01T18:31:40.349940Z"
    },
    "papermill": {
     "duration": 0.062532,
     "end_time": "2021-06-01T19:21:27.859001",
     "exception": false,
     "start_time": "2021-06-01T19:21:27.796469",
     "status": "completed"
    },
    "tags": []
   },
   "outputs": [],
   "source": [
    "train.drop('READY_TO_MOVE', axis=1, inplace=True)\n",
    "test.drop('READY_TO_MOVE', axis=1, inplace=True)"
   ]
  },
  {
   "cell_type": "code",
   "execution_count": 17,
   "id": "super-cabinet",
   "metadata": {
    "execution": {
     "iopub.execute_input": "2021-06-01T19:21:27.968416Z",
     "iopub.status.busy": "2021-06-01T19:21:27.967254Z",
     "iopub.status.idle": "2021-06-01T19:21:28.042911Z",
     "shell.execute_reply": "2021-06-01T19:21:28.042144Z",
     "shell.execute_reply.started": "2021-06-01T18:31:40.362157Z"
    },
    "papermill": {
     "duration": 0.12825,
     "end_time": "2021-06-01T19:21:28.043104",
     "exception": false,
     "start_time": "2021-06-01T19:21:27.914854",
     "status": "completed"
    },
    "tags": []
   },
   "outputs": [],
   "source": [
    "train['POSTED_BY']= train['POSTED_BY'].replace({'Owner':0, 'Dealer':1, 'Builder':2})\n",
    "test['POSTED_BY']= test['POSTED_BY'].replace({'Owner':0, 'Dealer':1, 'Builder':2})"
   ]
  },
  {
   "cell_type": "code",
   "execution_count": 18,
   "id": "better-minimum",
   "metadata": {
    "execution": {
     "iopub.execute_input": "2021-06-01T19:21:28.157752Z",
     "iopub.status.busy": "2021-06-01T19:21:28.151667Z",
     "iopub.status.idle": "2021-06-01T19:21:28.160888Z",
     "shell.execute_reply": "2021-06-01T19:21:28.161383Z",
     "shell.execute_reply.started": "2021-06-01T18:31:40.442970Z"
    },
    "papermill": {
     "duration": 0.066925,
     "end_time": "2021-06-01T19:21:28.161617",
     "exception": false,
     "start_time": "2021-06-01T19:21:28.094692",
     "status": "completed"
    },
    "tags": []
   },
   "outputs": [
    {
     "data": {
      "text/html": [
       "<div>\n",
       "<style scoped>\n",
       "    .dataframe tbody tr th:only-of-type {\n",
       "        vertical-align: middle;\n",
       "    }\n",
       "\n",
       "    .dataframe tbody tr th {\n",
       "        vertical-align: top;\n",
       "    }\n",
       "\n",
       "    .dataframe thead th {\n",
       "        text-align: right;\n",
       "    }\n",
       "</style>\n",
       "<table border=\"1\" class=\"dataframe\">\n",
       "  <thead>\n",
       "    <tr style=\"text-align: right;\">\n",
       "      <th></th>\n",
       "      <th>POSTED_BY</th>\n",
       "      <th>UNDER_CONSTRUCTION</th>\n",
       "      <th>RERA</th>\n",
       "      <th>BHK_NO.</th>\n",
       "      <th>SQUARE_FT</th>\n",
       "      <th>RESALE</th>\n",
       "      <th>LONGITUDE</th>\n",
       "      <th>LATITUDE</th>\n",
       "      <th>TARGET(PRICE_IN_LACS)</th>\n",
       "    </tr>\n",
       "  </thead>\n",
       "  <tbody>\n",
       "    <tr>\n",
       "      <th>0</th>\n",
       "      <td>0</td>\n",
       "      <td>0</td>\n",
       "      <td>0</td>\n",
       "      <td>2</td>\n",
       "      <td>1300.236407</td>\n",
       "      <td>1</td>\n",
       "      <td>12.969910</td>\n",
       "      <td>77.597960</td>\n",
       "      <td>55.0</td>\n",
       "    </tr>\n",
       "    <tr>\n",
       "      <th>1</th>\n",
       "      <td>1</td>\n",
       "      <td>0</td>\n",
       "      <td>0</td>\n",
       "      <td>2</td>\n",
       "      <td>1275.000000</td>\n",
       "      <td>1</td>\n",
       "      <td>12.274538</td>\n",
       "      <td>76.644605</td>\n",
       "      <td>51.0</td>\n",
       "    </tr>\n",
       "    <tr>\n",
       "      <th>2</th>\n",
       "      <td>0</td>\n",
       "      <td>0</td>\n",
       "      <td>0</td>\n",
       "      <td>2</td>\n",
       "      <td>933.159722</td>\n",
       "      <td>1</td>\n",
       "      <td>12.778033</td>\n",
       "      <td>77.632191</td>\n",
       "      <td>43.0</td>\n",
       "    </tr>\n",
       "    <tr>\n",
       "      <th>3</th>\n",
       "      <td>0</td>\n",
       "      <td>0</td>\n",
       "      <td>1</td>\n",
       "      <td>2</td>\n",
       "      <td>929.921143</td>\n",
       "      <td>1</td>\n",
       "      <td>28.642300</td>\n",
       "      <td>77.344500</td>\n",
       "      <td>62.5</td>\n",
       "    </tr>\n",
       "    <tr>\n",
       "      <th>4</th>\n",
       "      <td>1</td>\n",
       "      <td>1</td>\n",
       "      <td>0</td>\n",
       "      <td>2</td>\n",
       "      <td>999.009247</td>\n",
       "      <td>1</td>\n",
       "      <td>22.592200</td>\n",
       "      <td>88.484911</td>\n",
       "      <td>60.5</td>\n",
       "    </tr>\n",
       "  </tbody>\n",
       "</table>\n",
       "</div>"
      ],
      "text/plain": [
       "   POSTED_BY  UNDER_CONSTRUCTION  RERA  BHK_NO.    SQUARE_FT  RESALE  \\\n",
       "0          0                   0     0        2  1300.236407       1   \n",
       "1          1                   0     0        2  1275.000000       1   \n",
       "2          0                   0     0        2   933.159722       1   \n",
       "3          0                   0     1        2   929.921143       1   \n",
       "4          1                   1     0        2   999.009247       1   \n",
       "\n",
       "   LONGITUDE   LATITUDE  TARGET(PRICE_IN_LACS)  \n",
       "0  12.969910  77.597960                   55.0  \n",
       "1  12.274538  76.644605                   51.0  \n",
       "2  12.778033  77.632191                   43.0  \n",
       "3  28.642300  77.344500                   62.5  \n",
       "4  22.592200  88.484911                   60.5  "
      ]
     },
     "execution_count": 18,
     "metadata": {},
     "output_type": "execute_result"
    }
   ],
   "source": [
    "train.head()"
   ]
  },
  {
   "cell_type": "code",
   "execution_count": 19,
   "id": "physical-violence",
   "metadata": {
    "execution": {
     "iopub.execute_input": "2021-06-01T19:21:28.264596Z",
     "iopub.status.busy": "2021-06-01T19:21:28.263748Z",
     "iopub.status.idle": "2021-06-01T19:21:28.270719Z",
     "shell.execute_reply": "2021-06-01T19:21:28.271201Z",
     "shell.execute_reply.started": "2021-06-01T18:31:40.461565Z"
    },
    "papermill": {
     "duration": 0.061051,
     "end_time": "2021-06-01T19:21:28.271449",
     "exception": false,
     "start_time": "2021-06-01T19:21:28.210398",
     "status": "completed"
    },
    "tags": []
   },
   "outputs": [],
   "source": [
    "X= train.drop('TARGET(PRICE_IN_LACS)', axis=1)\n",
    "y= train['TARGET(PRICE_IN_LACS)']"
   ]
  },
  {
   "cell_type": "code",
   "execution_count": 20,
   "id": "chronic-somewhere",
   "metadata": {
    "execution": {
     "iopub.execute_input": "2021-06-01T19:21:28.379133Z",
     "iopub.status.busy": "2021-06-01T19:21:28.378355Z",
     "iopub.status.idle": "2021-06-01T19:21:28.391943Z",
     "shell.execute_reply": "2021-06-01T19:21:28.392515Z",
     "shell.execute_reply.started": "2021-06-01T18:31:40.477027Z"
    },
    "papermill": {
     "duration": 0.069775,
     "end_time": "2021-06-01T19:21:28.392756",
     "exception": false,
     "start_time": "2021-06-01T19:21:28.322981",
     "status": "completed"
    },
    "tags": []
   },
   "outputs": [
    {
     "data": {
      "text/html": [
       "<div>\n",
       "<style scoped>\n",
       "    .dataframe tbody tr th:only-of-type {\n",
       "        vertical-align: middle;\n",
       "    }\n",
       "\n",
       "    .dataframe tbody tr th {\n",
       "        vertical-align: top;\n",
       "    }\n",
       "\n",
       "    .dataframe thead th {\n",
       "        text-align: right;\n",
       "    }\n",
       "</style>\n",
       "<table border=\"1\" class=\"dataframe\">\n",
       "  <thead>\n",
       "    <tr style=\"text-align: right;\">\n",
       "      <th></th>\n",
       "      <th>POSTED_BY</th>\n",
       "      <th>UNDER_CONSTRUCTION</th>\n",
       "      <th>RERA</th>\n",
       "      <th>BHK_NO.</th>\n",
       "      <th>SQUARE_FT</th>\n",
       "      <th>RESALE</th>\n",
       "      <th>LONGITUDE</th>\n",
       "      <th>LATITUDE</th>\n",
       "    </tr>\n",
       "  </thead>\n",
       "  <tbody>\n",
       "    <tr>\n",
       "      <th>0</th>\n",
       "      <td>0</td>\n",
       "      <td>0</td>\n",
       "      <td>0</td>\n",
       "      <td>2</td>\n",
       "      <td>1300.236407</td>\n",
       "      <td>1</td>\n",
       "      <td>12.969910</td>\n",
       "      <td>77.597960</td>\n",
       "    </tr>\n",
       "    <tr>\n",
       "      <th>1</th>\n",
       "      <td>1</td>\n",
       "      <td>0</td>\n",
       "      <td>0</td>\n",
       "      <td>2</td>\n",
       "      <td>1275.000000</td>\n",
       "      <td>1</td>\n",
       "      <td>12.274538</td>\n",
       "      <td>76.644605</td>\n",
       "    </tr>\n",
       "    <tr>\n",
       "      <th>2</th>\n",
       "      <td>0</td>\n",
       "      <td>0</td>\n",
       "      <td>0</td>\n",
       "      <td>2</td>\n",
       "      <td>933.159722</td>\n",
       "      <td>1</td>\n",
       "      <td>12.778033</td>\n",
       "      <td>77.632191</td>\n",
       "    </tr>\n",
       "    <tr>\n",
       "      <th>3</th>\n",
       "      <td>0</td>\n",
       "      <td>0</td>\n",
       "      <td>1</td>\n",
       "      <td>2</td>\n",
       "      <td>929.921143</td>\n",
       "      <td>1</td>\n",
       "      <td>28.642300</td>\n",
       "      <td>77.344500</td>\n",
       "    </tr>\n",
       "    <tr>\n",
       "      <th>4</th>\n",
       "      <td>1</td>\n",
       "      <td>1</td>\n",
       "      <td>0</td>\n",
       "      <td>2</td>\n",
       "      <td>999.009247</td>\n",
       "      <td>1</td>\n",
       "      <td>22.592200</td>\n",
       "      <td>88.484911</td>\n",
       "    </tr>\n",
       "  </tbody>\n",
       "</table>\n",
       "</div>"
      ],
      "text/plain": [
       "   POSTED_BY  UNDER_CONSTRUCTION  RERA  BHK_NO.    SQUARE_FT  RESALE  \\\n",
       "0          0                   0     0        2  1300.236407       1   \n",
       "1          1                   0     0        2  1275.000000       1   \n",
       "2          0                   0     0        2   933.159722       1   \n",
       "3          0                   0     1        2   929.921143       1   \n",
       "4          1                   1     0        2   999.009247       1   \n",
       "\n",
       "   LONGITUDE   LATITUDE  \n",
       "0  12.969910  77.597960  \n",
       "1  12.274538  76.644605  \n",
       "2  12.778033  77.632191  \n",
       "3  28.642300  77.344500  \n",
       "4  22.592200  88.484911  "
      ]
     },
     "execution_count": 20,
     "metadata": {},
     "output_type": "execute_result"
    }
   ],
   "source": [
    "X.head()"
   ]
  },
  {
   "cell_type": "code",
   "execution_count": 21,
   "id": "active-sailing",
   "metadata": {
    "execution": {
     "iopub.execute_input": "2021-06-01T19:21:28.499250Z",
     "iopub.status.busy": "2021-06-01T19:21:28.498580Z",
     "iopub.status.idle": "2021-06-01T19:21:28.755407Z",
     "shell.execute_reply": "2021-06-01T19:21:28.754851Z",
     "shell.execute_reply.started": "2021-06-01T18:31:40.498416Z"
    },
    "papermill": {
     "duration": 0.31052,
     "end_time": "2021-06-01T19:21:28.755592",
     "exception": false,
     "start_time": "2021-06-01T19:21:28.445072",
     "status": "completed"
    },
    "tags": []
   },
   "outputs": [],
   "source": [
    "from sklearn.model_selection import train_test_split\n",
    "\n",
    "X_train, X_test, y_train, y_test= train_test_split(X,y, test_size=0.2)"
   ]
  },
  {
   "cell_type": "code",
   "execution_count": 22,
   "id": "moved-steering",
   "metadata": {
    "execution": {
     "iopub.execute_input": "2021-06-01T19:21:28.867683Z",
     "iopub.status.busy": "2021-06-01T19:21:28.866356Z",
     "iopub.status.idle": "2021-06-01T19:21:28.871228Z",
     "shell.execute_reply": "2021-06-01T19:21:28.871708Z",
     "shell.execute_reply.started": "2021-06-01T18:49:11.796513Z"
    },
    "papermill": {
     "duration": 0.067853,
     "end_time": "2021-06-01T19:21:28.871898",
     "exception": false,
     "start_time": "2021-06-01T19:21:28.804045",
     "status": "completed"
    },
    "tags": []
   },
   "outputs": [
    {
     "data": {
      "text/html": [
       "<div>\n",
       "<style scoped>\n",
       "    .dataframe tbody tr th:only-of-type {\n",
       "        vertical-align: middle;\n",
       "    }\n",
       "\n",
       "    .dataframe tbody tr th {\n",
       "        vertical-align: top;\n",
       "    }\n",
       "\n",
       "    .dataframe thead th {\n",
       "        text-align: right;\n",
       "    }\n",
       "</style>\n",
       "<table border=\"1\" class=\"dataframe\">\n",
       "  <thead>\n",
       "    <tr style=\"text-align: right;\">\n",
       "      <th></th>\n",
       "      <th>POSTED_BY</th>\n",
       "      <th>UNDER_CONSTRUCTION</th>\n",
       "      <th>RERA</th>\n",
       "      <th>BHK_NO.</th>\n",
       "      <th>SQUARE_FT</th>\n",
       "      <th>RESALE</th>\n",
       "      <th>LONGITUDE</th>\n",
       "      <th>LATITUDE</th>\n",
       "    </tr>\n",
       "  </thead>\n",
       "  <tbody>\n",
       "    <tr>\n",
       "      <th>10686</th>\n",
       "      <td>1</td>\n",
       "      <td>0</td>\n",
       "      <td>1</td>\n",
       "      <td>3</td>\n",
       "      <td>1250.893495</td>\n",
       "      <td>1</td>\n",
       "      <td>28.527597</td>\n",
       "      <td>77.389374</td>\n",
       "    </tr>\n",
       "    <tr>\n",
       "      <th>25017</th>\n",
       "      <td>1</td>\n",
       "      <td>1</td>\n",
       "      <td>1</td>\n",
       "      <td>1</td>\n",
       "      <td>466.994382</td>\n",
       "      <td>1</td>\n",
       "      <td>19.245347</td>\n",
       "      <td>73.124577</td>\n",
       "    </tr>\n",
       "    <tr>\n",
       "      <th>7629</th>\n",
       "      <td>0</td>\n",
       "      <td>0</td>\n",
       "      <td>0</td>\n",
       "      <td>3</td>\n",
       "      <td>1340.782123</td>\n",
       "      <td>1</td>\n",
       "      <td>20.353795</td>\n",
       "      <td>85.821020</td>\n",
       "    </tr>\n",
       "    <tr>\n",
       "      <th>13544</th>\n",
       "      <td>1</td>\n",
       "      <td>0</td>\n",
       "      <td>0</td>\n",
       "      <td>5</td>\n",
       "      <td>5111.111111</td>\n",
       "      <td>1</td>\n",
       "      <td>21.143354</td>\n",
       "      <td>72.770931</td>\n",
       "    </tr>\n",
       "    <tr>\n",
       "      <th>16500</th>\n",
       "      <td>1</td>\n",
       "      <td>0</td>\n",
       "      <td>0</td>\n",
       "      <td>2</td>\n",
       "      <td>1177.059855</td>\n",
       "      <td>1</td>\n",
       "      <td>26.860560</td>\n",
       "      <td>80.915830</td>\n",
       "    </tr>\n",
       "  </tbody>\n",
       "</table>\n",
       "</div>"
      ],
      "text/plain": [
       "       POSTED_BY  UNDER_CONSTRUCTION  RERA  BHK_NO.    SQUARE_FT  RESALE  \\\n",
       "10686          1                   0     1        3  1250.893495       1   \n",
       "25017          1                   1     1        1   466.994382       1   \n",
       "7629           0                   0     0        3  1340.782123       1   \n",
       "13544          1                   0     0        5  5111.111111       1   \n",
       "16500          1                   0     0        2  1177.059855       1   \n",
       "\n",
       "       LONGITUDE   LATITUDE  \n",
       "10686  28.527597  77.389374  \n",
       "25017  19.245347  73.124577  \n",
       "7629   20.353795  85.821020  \n",
       "13544  21.143354  72.770931  \n",
       "16500  26.860560  80.915830  "
      ]
     },
     "execution_count": 22,
     "metadata": {},
     "output_type": "execute_result"
    }
   ],
   "source": [
    "X_train.head()"
   ]
  },
  {
   "cell_type": "code",
   "execution_count": 23,
   "id": "corrected-gibraltar",
   "metadata": {
    "execution": {
     "iopub.execute_input": "2021-06-01T19:21:28.984918Z",
     "iopub.status.busy": "2021-06-01T19:21:28.983967Z",
     "iopub.status.idle": "2021-06-01T19:21:28.990000Z",
     "shell.execute_reply": "2021-06-01T19:21:28.989364Z",
     "shell.execute_reply.started": "2021-06-01T18:49:04.891614Z"
    },
    "papermill": {
     "duration": 0.067244,
     "end_time": "2021-06-01T19:21:28.990164",
     "exception": false,
     "start_time": "2021-06-01T19:21:28.922920",
     "status": "completed"
    },
    "tags": []
   },
   "outputs": [
    {
     "data": {
      "text/html": [
       "<div>\n",
       "<style scoped>\n",
       "    .dataframe tbody tr th:only-of-type {\n",
       "        vertical-align: middle;\n",
       "    }\n",
       "\n",
       "    .dataframe tbody tr th {\n",
       "        vertical-align: top;\n",
       "    }\n",
       "\n",
       "    .dataframe thead th {\n",
       "        text-align: right;\n",
       "    }\n",
       "</style>\n",
       "<table border=\"1\" class=\"dataframe\">\n",
       "  <thead>\n",
       "    <tr style=\"text-align: right;\">\n",
       "      <th></th>\n",
       "      <th>POSTED_BY</th>\n",
       "      <th>UNDER_CONSTRUCTION</th>\n",
       "      <th>RERA</th>\n",
       "      <th>BHK_NO.</th>\n",
       "      <th>SQUARE_FT</th>\n",
       "      <th>RESALE</th>\n",
       "      <th>LONGITUDE</th>\n",
       "      <th>LATITUDE</th>\n",
       "    </tr>\n",
       "  </thead>\n",
       "  <tbody>\n",
       "    <tr>\n",
       "      <th>12467</th>\n",
       "      <td>1</td>\n",
       "      <td>0</td>\n",
       "      <td>0</td>\n",
       "      <td>5</td>\n",
       "      <td>4200.019765</td>\n",
       "      <td>1</td>\n",
       "      <td>19.102600</td>\n",
       "      <td>72.824300</td>\n",
       "    </tr>\n",
       "    <tr>\n",
       "      <th>6062</th>\n",
       "      <td>1</td>\n",
       "      <td>0</td>\n",
       "      <td>1</td>\n",
       "      <td>3</td>\n",
       "      <td>2092.050209</td>\n",
       "      <td>1</td>\n",
       "      <td>28.388225</td>\n",
       "      <td>76.946376</td>\n",
       "    </tr>\n",
       "    <tr>\n",
       "      <th>22745</th>\n",
       "      <td>1</td>\n",
       "      <td>0</td>\n",
       "      <td>1</td>\n",
       "      <td>3</td>\n",
       "      <td>1183.548673</td>\n",
       "      <td>1</td>\n",
       "      <td>19.221571</td>\n",
       "      <td>73.042474</td>\n",
       "    </tr>\n",
       "    <tr>\n",
       "      <th>17964</th>\n",
       "      <td>1</td>\n",
       "      <td>1</td>\n",
       "      <td>1</td>\n",
       "      <td>4</td>\n",
       "      <td>2326.122354</td>\n",
       "      <td>1</td>\n",
       "      <td>30.662283</td>\n",
       "      <td>76.822397</td>\n",
       "    </tr>\n",
       "    <tr>\n",
       "      <th>18551</th>\n",
       "      <td>0</td>\n",
       "      <td>0</td>\n",
       "      <td>0</td>\n",
       "      <td>2</td>\n",
       "      <td>1200.120012</td>\n",
       "      <td>1</td>\n",
       "      <td>14.432003</td>\n",
       "      <td>79.974789</td>\n",
       "    </tr>\n",
       "  </tbody>\n",
       "</table>\n",
       "</div>"
      ],
      "text/plain": [
       "       POSTED_BY  UNDER_CONSTRUCTION  RERA  BHK_NO.    SQUARE_FT  RESALE  \\\n",
       "12467          1                   0     0        5  4200.019765       1   \n",
       "6062           1                   0     1        3  2092.050209       1   \n",
       "22745          1                   0     1        3  1183.548673       1   \n",
       "17964          1                   1     1        4  2326.122354       1   \n",
       "18551          0                   0     0        2  1200.120012       1   \n",
       "\n",
       "       LONGITUDE   LATITUDE  \n",
       "12467  19.102600  72.824300  \n",
       "6062   28.388225  76.946376  \n",
       "22745  19.221571  73.042474  \n",
       "17964  30.662283  76.822397  \n",
       "18551  14.432003  79.974789  "
      ]
     },
     "execution_count": 23,
     "metadata": {},
     "output_type": "execute_result"
    }
   ],
   "source": [
    "X_test.head()"
   ]
  },
  {
   "cell_type": "markdown",
   "id": "breathing-venezuela",
   "metadata": {
    "papermill": {
     "duration": 0.053695,
     "end_time": "2021-06-01T19:21:29.095567",
     "exception": false,
     "start_time": "2021-06-01T19:21:29.041872",
     "status": "completed"
    },
    "tags": []
   },
   "source": [
    "# Creating Models\n",
    "\n",
    "**We use several models and then we will select the best model**"
   ]
  },
  {
   "cell_type": "code",
   "execution_count": 24,
   "id": "wrapped-practitioner",
   "metadata": {
    "execution": {
     "iopub.execute_input": "2021-06-01T19:21:29.207364Z",
     "iopub.status.busy": "2021-06-01T19:21:29.205210Z",
     "iopub.status.idle": "2021-06-01T19:21:29.776312Z",
     "shell.execute_reply": "2021-06-01T19:21:29.775307Z",
     "shell.execute_reply.started": "2021-06-01T18:50:19.966552Z"
    },
    "papermill": {
     "duration": 0.627844,
     "end_time": "2021-06-01T19:21:29.776529",
     "exception": false,
     "start_time": "2021-06-01T19:21:29.148685",
     "status": "completed"
    },
    "tags": []
   },
   "outputs": [],
   "source": [
    "from sklearn.ensemble import RandomForestRegressor\n",
    "from sklearn.tree import DecisionTreeRegressor\n",
    "from xgboost import XGBRegressor\n",
    "from catboost import CatBoostRegressor\n",
    "from sklearn.metrics import mean_squared_error"
   ]
  },
  {
   "cell_type": "code",
   "execution_count": 25,
   "id": "underlying-humanity",
   "metadata": {
    "execution": {
     "iopub.execute_input": "2021-06-01T19:21:29.900998Z",
     "iopub.status.busy": "2021-06-01T19:21:29.900237Z",
     "iopub.status.idle": "2021-06-01T19:21:29.903335Z",
     "shell.execute_reply": "2021-06-01T19:21:29.903856Z",
     "shell.execute_reply.started": "2021-06-01T18:50:21.656324Z"
    },
    "papermill": {
     "duration": 0.070612,
     "end_time": "2021-06-01T19:21:29.904105",
     "exception": false,
     "start_time": "2021-06-01T19:21:29.833493",
     "status": "completed"
    },
    "tags": []
   },
   "outputs": [],
   "source": [
    "key= ['RandomForestRegressor', 'DecisionTreeRegressor', 'XGBRegressor', 'CatBoostRegressor']\n",
    "value= [RandomForestRegressor(), DecisionTreeRegressor(), XGBRegressor(), CatBoostRegressor()]\n",
    "\n",
    "models= dict(zip(key,value))\n"
   ]
  },
  {
   "cell_type": "code",
   "execution_count": 26,
   "id": "lesser-rough",
   "metadata": {
    "execution": {
     "iopub.execute_input": "2021-06-01T19:21:30.011130Z",
     "iopub.status.busy": "2021-06-01T19:21:30.010345Z",
     "iopub.status.idle": "2021-06-01T19:21:30.023077Z",
     "shell.execute_reply": "2021-06-01T19:21:30.022395Z",
     "shell.execute_reply.started": "2021-06-01T18:50:22.095884Z"
    },
    "papermill": {
     "duration": 0.069934,
     "end_time": "2021-06-01T19:21:30.023254",
     "exception": false,
     "start_time": "2021-06-01T19:21:29.953320",
     "status": "completed"
    },
    "tags": []
   },
   "outputs": [
    {
     "data": {
      "text/plain": [
       "{'RandomForestRegressor': RandomForestRegressor(),\n",
       " 'DecisionTreeRegressor': DecisionTreeRegressor(),\n",
       " 'XGBRegressor': XGBRegressor(base_score=None, booster=None, colsample_bylevel=None,\n",
       "              colsample_bynode=None, colsample_bytree=None, gamma=None,\n",
       "              gpu_id=None, importance_type='gain', interaction_constraints=None,\n",
       "              learning_rate=None, max_delta_step=None, max_depth=None,\n",
       "              min_child_weight=None, missing=nan, monotone_constraints=None,\n",
       "              n_estimators=100, n_jobs=None, num_parallel_tree=None,\n",
       "              random_state=None, reg_alpha=None, reg_lambda=None,\n",
       "              scale_pos_weight=None, subsample=None, tree_method=None,\n",
       "              validate_parameters=None, verbosity=None),\n",
       " 'CatBoostRegressor': <catboost.core.CatBoostRegressor at 0x7f3c27b98f90>}"
      ]
     },
     "execution_count": 26,
     "metadata": {},
     "output_type": "execute_result"
    }
   ],
   "source": [
    "models"
   ]
  },
  {
   "cell_type": "code",
   "execution_count": 27,
   "id": "higher-promotion",
   "metadata": {
    "execution": {
     "iopub.execute_input": "2021-06-01T19:21:30.142858Z",
     "iopub.status.busy": "2021-06-01T19:21:30.141625Z",
     "iopub.status.idle": "2021-06-01T19:21:47.494548Z",
     "shell.execute_reply": "2021-06-01T19:21:47.493878Z",
     "shell.execute_reply.started": "2021-06-01T18:51:43.301214Z"
    },
    "papermill": {
     "duration": 17.4188,
     "end_time": "2021-06-01T19:21:47.494719",
     "exception": false,
     "start_time": "2021-06-01T19:21:30.075919",
     "status": "completed"
    },
    "tags": []
   },
   "outputs": [
    {
     "name": "stdout",
     "output_type": "stream",
     "text": [
      "RandomForestRegressor: \n",
      " \n",
      "Training error: 81.93553452855048 \n",
      "\n",
      "Testing error: 122.63405139462942 \n",
      "\n",
      "\n",
      "\n",
      "DecisionTreeRegressor: \n",
      " \n",
      "Training error: 3.2303584361116866 \n",
      "\n",
      "Testing error: 164.30407167202173 \n",
      "\n",
      "\n",
      "\n",
      "XGBRegressor: \n",
      " \n",
      "Training error: 43.444077793252184 \n",
      "\n",
      "Testing error: 124.97016820978813 \n",
      "\n",
      "\n",
      "\n",
      "Learning rate set to 0.068493\n",
      "0:\tlearn: 639.6685003\ttotal: 56.6ms\tremaining: 56.6s\n",
      "1:\tlearn: 609.7601918\ttotal: 63ms\tremaining: 31.4s\n",
      "2:\tlearn: 581.2617330\ttotal: 67.7ms\tremaining: 22.5s\n",
      "3:\tlearn: 554.6014984\ttotal: 71ms\tremaining: 17.7s\n",
      "4:\tlearn: 529.2173735\ttotal: 75.7ms\tremaining: 15.1s\n",
      "5:\tlearn: 505.4780052\ttotal: 78.7ms\tremaining: 13s\n",
      "6:\tlearn: 484.4323104\ttotal: 82.1ms\tremaining: 11.6s\n",
      "7:\tlearn: 463.0836324\ttotal: 85.1ms\tremaining: 10.5s\n",
      "8:\tlearn: 444.4696554\ttotal: 88.3ms\tremaining: 9.72s\n",
      "9:\tlearn: 425.6390501\ttotal: 91.7ms\tremaining: 9.07s\n",
      "10:\tlearn: 407.8389137\ttotal: 95ms\tremaining: 8.54s\n",
      "11:\tlearn: 392.8575796\ttotal: 98.8ms\tremaining: 8.13s\n",
      "12:\tlearn: 378.9921219\ttotal: 102ms\tremaining: 7.76s\n",
      "13:\tlearn: 364.7116521\ttotal: 106ms\tremaining: 7.44s\n",
      "14:\tlearn: 351.0193530\ttotal: 109ms\tremaining: 7.16s\n",
      "15:\tlearn: 339.3045805\ttotal: 113ms\tremaining: 6.92s\n",
      "16:\tlearn: 327.0496103\ttotal: 116ms\tremaining: 6.7s\n",
      "17:\tlearn: 315.8044211\ttotal: 119ms\tremaining: 6.51s\n",
      "18:\tlearn: 305.6472923\ttotal: 123ms\tremaining: 6.34s\n",
      "19:\tlearn: 295.9855503\ttotal: 127ms\tremaining: 6.2s\n",
      "20:\tlearn: 286.3333693\ttotal: 130ms\tremaining: 6.06s\n",
      "21:\tlearn: 278.2695541\ttotal: 134ms\tremaining: 5.96s\n",
      "22:\tlearn: 269.9005658\ttotal: 137ms\tremaining: 5.83s\n",
      "23:\tlearn: 262.2894230\ttotal: 141ms\tremaining: 5.72s\n",
      "24:\tlearn: 255.3529902\ttotal: 146ms\tremaining: 5.7s\n",
      "25:\tlearn: 248.6186748\ttotal: 150ms\tremaining: 5.62s\n",
      "26:\tlearn: 242.3981893\ttotal: 153ms\tremaining: 5.53s\n",
      "27:\tlearn: 236.7886717\ttotal: 156ms\tremaining: 5.43s\n",
      "28:\tlearn: 231.1764883\ttotal: 160ms\tremaining: 5.35s\n",
      "29:\tlearn: 226.1773773\ttotal: 163ms\tremaining: 5.27s\n",
      "30:\tlearn: 221.9529538\ttotal: 166ms\tremaining: 5.2s\n",
      "31:\tlearn: 218.0567153\ttotal: 169ms\tremaining: 5.13s\n",
      "32:\tlearn: 214.1754232\ttotal: 172ms\tremaining: 5.05s\n",
      "33:\tlearn: 210.5935882\ttotal: 176ms\tremaining: 4.99s\n",
      "34:\tlearn: 206.1807909\ttotal: 179ms\tremaining: 4.93s\n",
      "35:\tlearn: 202.5099810\ttotal: 182ms\tremaining: 4.87s\n",
      "36:\tlearn: 199.3194154\ttotal: 185ms\tremaining: 4.82s\n",
      "37:\tlearn: 196.0268852\ttotal: 188ms\tremaining: 4.76s\n",
      "38:\tlearn: 193.6281414\ttotal: 192ms\tremaining: 4.72s\n",
      "39:\tlearn: 190.3993153\ttotal: 195ms\tremaining: 4.67s\n",
      "40:\tlearn: 187.8808672\ttotal: 198ms\tremaining: 4.62s\n",
      "41:\tlearn: 185.4505951\ttotal: 201ms\tremaining: 4.58s\n",
      "42:\tlearn: 183.3039238\ttotal: 204ms\tremaining: 4.54s\n",
      "43:\tlearn: 180.9885101\ttotal: 207ms\tremaining: 4.5s\n",
      "44:\tlearn: 179.1675372\ttotal: 210ms\tremaining: 4.46s\n",
      "45:\tlearn: 176.8431158\ttotal: 213ms\tremaining: 4.43s\n",
      "46:\tlearn: 175.0426737\ttotal: 217ms\tremaining: 4.4s\n",
      "47:\tlearn: 173.2641051\ttotal: 220ms\tremaining: 4.37s\n",
      "48:\tlearn: 171.1046115\ttotal: 224ms\tremaining: 4.34s\n",
      "49:\tlearn: 169.5274562\ttotal: 227ms\tremaining: 4.32s\n",
      "50:\tlearn: 168.0637021\ttotal: 231ms\tremaining: 4.29s\n",
      "51:\tlearn: 166.4918784\ttotal: 234ms\tremaining: 4.27s\n",
      "52:\tlearn: 165.0496193\ttotal: 237ms\tremaining: 4.24s\n",
      "53:\tlearn: 163.1967809\ttotal: 241ms\tremaining: 4.21s\n",
      "54:\tlearn: 161.4221642\ttotal: 244ms\tremaining: 4.19s\n",
      "55:\tlearn: 160.0757697\ttotal: 247ms\tremaining: 4.17s\n",
      "56:\tlearn: 158.8273120\ttotal: 250ms\tremaining: 4.14s\n",
      "57:\tlearn: 157.8350848\ttotal: 254ms\tremaining: 4.12s\n",
      "58:\tlearn: 156.4807051\ttotal: 257ms\tremaining: 4.1s\n",
      "59:\tlearn: 155.2952612\ttotal: 261ms\tremaining: 4.08s\n",
      "60:\tlearn: 154.0444891\ttotal: 263ms\tremaining: 4.06s\n",
      "61:\tlearn: 152.7978370\ttotal: 267ms\tremaining: 4.04s\n",
      "62:\tlearn: 151.7938855\ttotal: 270ms\tremaining: 4.01s\n",
      "63:\tlearn: 150.9366400\ttotal: 273ms\tremaining: 3.98s\n",
      "64:\tlearn: 150.0797871\ttotal: 275ms\tremaining: 3.96s\n",
      "65:\tlearn: 149.0563798\ttotal: 278ms\tremaining: 3.94s\n",
      "66:\tlearn: 148.2214598\ttotal: 281ms\tremaining: 3.92s\n",
      "67:\tlearn: 147.2756981\ttotal: 285ms\tremaining: 3.9s\n",
      "68:\tlearn: 146.4964810\ttotal: 288ms\tremaining: 3.88s\n",
      "69:\tlearn: 145.6861676\ttotal: 291ms\tremaining: 3.86s\n",
      "70:\tlearn: 145.0855515\ttotal: 294ms\tremaining: 3.84s\n",
      "71:\tlearn: 144.1840535\ttotal: 297ms\tremaining: 3.83s\n",
      "72:\tlearn: 143.2607420\ttotal: 300ms\tremaining: 3.81s\n",
      "73:\tlearn: 142.3329473\ttotal: 304ms\tremaining: 3.8s\n",
      "74:\tlearn: 141.6244911\ttotal: 307ms\tremaining: 3.78s\n",
      "75:\tlearn: 141.0180489\ttotal: 310ms\tremaining: 3.77s\n",
      "76:\tlearn: 140.2532662\ttotal: 314ms\tremaining: 3.76s\n",
      "77:\tlearn: 139.5983385\ttotal: 317ms\tremaining: 3.75s\n",
      "78:\tlearn: 138.8132592\ttotal: 321ms\tremaining: 3.74s\n",
      "79:\tlearn: 138.1454761\ttotal: 324ms\tremaining: 3.73s\n",
      "80:\tlearn: 137.4760898\ttotal: 328ms\tremaining: 3.71s\n",
      "81:\tlearn: 136.8706034\ttotal: 331ms\tremaining: 3.7s\n",
      "82:\tlearn: 136.4230575\ttotal: 334ms\tremaining: 3.69s\n",
      "83:\tlearn: 135.7309395\ttotal: 338ms\tremaining: 3.69s\n",
      "84:\tlearn: 135.1754057\ttotal: 344ms\tremaining: 3.7s\n",
      "85:\tlearn: 134.4741174\ttotal: 347ms\tremaining: 3.69s\n",
      "86:\tlearn: 133.8077956\ttotal: 350ms\tremaining: 3.67s\n",
      "87:\tlearn: 133.4074605\ttotal: 354ms\tremaining: 3.67s\n",
      "88:\tlearn: 132.9276967\ttotal: 357ms\tremaining: 3.65s\n",
      "89:\tlearn: 132.3799368\ttotal: 361ms\tremaining: 3.65s\n",
      "90:\tlearn: 131.8135074\ttotal: 364ms\tremaining: 3.63s\n",
      "91:\tlearn: 131.3005389\ttotal: 367ms\tremaining: 3.62s\n",
      "92:\tlearn: 130.9352066\ttotal: 370ms\tremaining: 3.61s\n",
      "93:\tlearn: 130.4540253\ttotal: 374ms\tremaining: 3.6s\n",
      "94:\tlearn: 130.0122447\ttotal: 377ms\tremaining: 3.59s\n",
      "95:\tlearn: 129.6954453\ttotal: 380ms\tremaining: 3.58s\n",
      "96:\tlearn: 129.0844877\ttotal: 383ms\tremaining: 3.57s\n",
      "97:\tlearn: 128.7324666\ttotal: 386ms\tremaining: 3.56s\n",
      "98:\tlearn: 128.3581055\ttotal: 390ms\tremaining: 3.55s\n",
      "99:\tlearn: 128.0809707\ttotal: 393ms\tremaining: 3.54s\n",
      "100:\tlearn: 127.7740572\ttotal: 396ms\tremaining: 3.53s\n",
      "101:\tlearn: 127.2385424\ttotal: 400ms\tremaining: 3.52s\n",
      "102:\tlearn: 126.8309229\ttotal: 403ms\tremaining: 3.51s\n",
      "103:\tlearn: 126.4959432\ttotal: 407ms\tremaining: 3.5s\n",
      "104:\tlearn: 126.2182213\ttotal: 410ms\tremaining: 3.5s\n",
      "105:\tlearn: 125.8369025\ttotal: 414ms\tremaining: 3.49s\n",
      "106:\tlearn: 125.5357450\ttotal: 417ms\tremaining: 3.48s\n",
      "107:\tlearn: 125.1979415\ttotal: 421ms\tremaining: 3.48s\n",
      "108:\tlearn: 124.8320228\ttotal: 424ms\tremaining: 3.47s\n",
      "109:\tlearn: 124.7636869\ttotal: 427ms\tremaining: 3.46s\n",
      "110:\tlearn: 124.5046544\ttotal: 431ms\tremaining: 3.45s\n",
      "111:\tlearn: 124.3422116\ttotal: 434ms\tremaining: 3.44s\n",
      "112:\tlearn: 124.1335556\ttotal: 437ms\tremaining: 3.43s\n",
      "113:\tlearn: 123.9288179\ttotal: 441ms\tremaining: 3.42s\n",
      "114:\tlearn: 123.5866573\ttotal: 444ms\tremaining: 3.42s\n",
      "115:\tlearn: 123.2843850\ttotal: 448ms\tremaining: 3.41s\n",
      "116:\tlearn: 123.0824173\ttotal: 451ms\tremaining: 3.4s\n",
      "117:\tlearn: 122.7778457\ttotal: 454ms\tremaining: 3.4s\n",
      "118:\tlearn: 122.4706386\ttotal: 458ms\tremaining: 3.39s\n",
      "119:\tlearn: 122.1584333\ttotal: 461ms\tremaining: 3.38s\n",
      "120:\tlearn: 121.8766111\ttotal: 464ms\tremaining: 3.37s\n",
      "121:\tlearn: 121.6585610\ttotal: 467ms\tremaining: 3.36s\n",
      "122:\tlearn: 121.4396190\ttotal: 471ms\tremaining: 3.36s\n",
      "123:\tlearn: 121.1396586\ttotal: 474ms\tremaining: 3.35s\n",
      "124:\tlearn: 121.0066778\ttotal: 478ms\tremaining: 3.34s\n",
      "125:\tlearn: 120.7210793\ttotal: 481ms\tremaining: 3.34s\n",
      "126:\tlearn: 120.4397608\ttotal: 484ms\tremaining: 3.33s\n",
      "127:\tlearn: 120.1262644\ttotal: 487ms\tremaining: 3.32s\n",
      "128:\tlearn: 119.7522079\ttotal: 490ms\tremaining: 3.31s\n",
      "129:\tlearn: 119.4338954\ttotal: 493ms\tremaining: 3.3s\n",
      "130:\tlearn: 119.1746626\ttotal: 497ms\tremaining: 3.29s\n",
      "131:\tlearn: 119.1202118\ttotal: 500ms\tremaining: 3.29s\n",
      "132:\tlearn: 119.0733377\ttotal: 503ms\tremaining: 3.28s\n",
      "133:\tlearn: 118.9817301\ttotal: 506ms\tremaining: 3.27s\n",
      "134:\tlearn: 118.6824123\ttotal: 509ms\tremaining: 3.26s\n",
      "135:\tlearn: 118.5386640\ttotal: 513ms\tremaining: 3.26s\n",
      "136:\tlearn: 118.2816712\ttotal: 516ms\tremaining: 3.25s\n",
      "137:\tlearn: 118.1086453\ttotal: 519ms\tremaining: 3.24s\n",
      "138:\tlearn: 117.8733131\ttotal: 522ms\tremaining: 3.23s\n",
      "139:\tlearn: 117.6256305\ttotal: 526ms\tremaining: 3.23s\n",
      "140:\tlearn: 117.4723380\ttotal: 531ms\tremaining: 3.24s\n",
      "141:\tlearn: 117.1983965\ttotal: 537ms\tremaining: 3.24s\n",
      "142:\tlearn: 116.9615713\ttotal: 540ms\tremaining: 3.24s\n",
      "143:\tlearn: 116.6879202\ttotal: 544ms\tremaining: 3.23s\n",
      "144:\tlearn: 116.6127378\ttotal: 547ms\tremaining: 3.23s\n",
      "145:\tlearn: 116.4355165\ttotal: 550ms\tremaining: 3.22s\n",
      "146:\tlearn: 116.1783811\ttotal: 554ms\tremaining: 3.21s\n",
      "147:\tlearn: 115.9657841\ttotal: 557ms\tremaining: 3.21s\n",
      "148:\tlearn: 115.8886754\ttotal: 560ms\tremaining: 3.2s\n",
      "149:\tlearn: 115.8050569\ttotal: 563ms\tremaining: 3.19s\n",
      "150:\tlearn: 115.6477744\ttotal: 566ms\tremaining: 3.18s\n",
      "151:\tlearn: 115.4214571\ttotal: 570ms\tremaining: 3.18s\n",
      "152:\tlearn: 115.2003120\ttotal: 573ms\tremaining: 3.17s\n",
      "153:\tlearn: 114.9496922\ttotal: 576ms\tremaining: 3.16s\n",
      "154:\tlearn: 114.7136749\ttotal: 579ms\tremaining: 3.15s\n",
      "155:\tlearn: 114.6224700\ttotal: 582ms\tremaining: 3.15s\n",
      "156:\tlearn: 114.2958491\ttotal: 585ms\tremaining: 3.14s\n",
      "157:\tlearn: 114.0965216\ttotal: 587ms\tremaining: 3.13s\n",
      "158:\tlearn: 113.9399517\ttotal: 591ms\tremaining: 3.12s\n",
      "159:\tlearn: 113.8761099\ttotal: 594ms\tremaining: 3.12s\n",
      "160:\tlearn: 113.7398165\ttotal: 597ms\tremaining: 3.11s\n",
      "161:\tlearn: 113.5060121\ttotal: 601ms\tremaining: 3.11s\n",
      "162:\tlearn: 113.3606081\ttotal: 605ms\tremaining: 3.11s\n",
      "163:\tlearn: 113.2032600\ttotal: 609ms\tremaining: 3.1s\n",
      "164:\tlearn: 113.0054949\ttotal: 613ms\tremaining: 3.1s\n",
      "165:\tlearn: 112.8659075\ttotal: 617ms\tremaining: 3.1s\n",
      "166:\tlearn: 112.6920752\ttotal: 621ms\tremaining: 3.1s\n",
      "167:\tlearn: 112.5788496\ttotal: 625ms\tremaining: 3.09s\n",
      "168:\tlearn: 112.3598190\ttotal: 628ms\tremaining: 3.09s\n",
      "169:\tlearn: 112.2099799\ttotal: 632ms\tremaining: 3.08s\n",
      "170:\tlearn: 111.8959734\ttotal: 636ms\tremaining: 3.08s\n",
      "171:\tlearn: 111.7137925\ttotal: 640ms\tremaining: 3.08s\n",
      "172:\tlearn: 111.5170905\ttotal: 644ms\tremaining: 3.08s\n",
      "173:\tlearn: 111.3309919\ttotal: 648ms\tremaining: 3.08s\n",
      "174:\tlearn: 111.1270856\ttotal: 652ms\tremaining: 3.07s\n",
      "175:\tlearn: 110.9507818\ttotal: 656ms\tremaining: 3.07s\n",
      "176:\tlearn: 110.8006063\ttotal: 660ms\tremaining: 3.07s\n",
      "177:\tlearn: 110.5018120\ttotal: 663ms\tremaining: 3.06s\n",
      "178:\tlearn: 110.3357115\ttotal: 667ms\tremaining: 3.06s\n",
      "179:\tlearn: 110.0558675\ttotal: 671ms\tremaining: 3.06s\n",
      "180:\tlearn: 109.8903484\ttotal: 675ms\tremaining: 3.06s\n",
      "181:\tlearn: 109.7297059\ttotal: 680ms\tremaining: 3.05s\n",
      "182:\tlearn: 109.5732727\ttotal: 686ms\tremaining: 3.06s\n",
      "183:\tlearn: 109.3653452\ttotal: 696ms\tremaining: 3.08s\n",
      "184:\tlearn: 109.2208285\ttotal: 702ms\tremaining: 3.09s\n",
      "185:\tlearn: 109.0721938\ttotal: 706ms\tremaining: 3.09s\n",
      "186:\tlearn: 108.8840243\ttotal: 710ms\tremaining: 3.09s\n",
      "187:\tlearn: 108.7084334\ttotal: 715ms\tremaining: 3.09s\n",
      "188:\tlearn: 108.5777429\ttotal: 718ms\tremaining: 3.08s\n",
      "189:\tlearn: 108.4103167\ttotal: 728ms\tremaining: 3.1s\n",
      "190:\tlearn: 108.2662067\ttotal: 732ms\tremaining: 3.1s\n",
      "191:\tlearn: 108.1280895\ttotal: 736ms\tremaining: 3.1s\n",
      "192:\tlearn: 107.9953515\ttotal: 740ms\tremaining: 3.09s\n",
      "193:\tlearn: 107.8303767\ttotal: 743ms\tremaining: 3.09s\n",
      "194:\tlearn: 107.6669380\ttotal: 747ms\tremaining: 3.08s\n",
      "195:\tlearn: 107.3843099\ttotal: 752ms\tremaining: 3.08s\n",
      "196:\tlearn: 107.2555787\ttotal: 756ms\tremaining: 3.08s\n",
      "197:\tlearn: 107.1111071\ttotal: 760ms\tremaining: 3.08s\n",
      "198:\tlearn: 106.8779559\ttotal: 763ms\tremaining: 3.07s\n",
      "199:\tlearn: 106.7265336\ttotal: 768ms\tremaining: 3.07s\n",
      "200:\tlearn: 106.4785990\ttotal: 772ms\tremaining: 3.07s\n",
      "201:\tlearn: 106.2526031\ttotal: 776ms\tremaining: 3.06s\n",
      "202:\tlearn: 106.0556804\ttotal: 780ms\tremaining: 3.06s\n",
      "203:\tlearn: 105.9118286\ttotal: 784ms\tremaining: 3.06s\n",
      "204:\tlearn: 105.7873704\ttotal: 788ms\tremaining: 3.06s\n",
      "205:\tlearn: 105.6797037\ttotal: 792ms\tremaining: 3.05s\n",
      "206:\tlearn: 105.4910877\ttotal: 796ms\tremaining: 3.05s\n",
      "207:\tlearn: 105.3803815\ttotal: 800ms\tremaining: 3.05s\n",
      "208:\tlearn: 105.2025281\ttotal: 804ms\tremaining: 3.04s\n",
      "209:\tlearn: 105.0602638\ttotal: 808ms\tremaining: 3.04s\n",
      "210:\tlearn: 104.9272884\ttotal: 812ms\tremaining: 3.04s\n",
      "211:\tlearn: 104.7969935\ttotal: 816ms\tremaining: 3.03s\n",
      "212:\tlearn: 104.7031362\ttotal: 820ms\tremaining: 3.03s\n",
      "213:\tlearn: 104.4996057\ttotal: 824ms\tremaining: 3.02s\n",
      "214:\tlearn: 104.3516391\ttotal: 828ms\tremaining: 3.02s\n",
      "215:\tlearn: 104.2346459\ttotal: 832ms\tremaining: 3.02s\n",
      "216:\tlearn: 104.1829907\ttotal: 835ms\tremaining: 3.01s\n",
      "217:\tlearn: 104.0812560\ttotal: 839ms\tremaining: 3.01s\n",
      "218:\tlearn: 104.0359576\ttotal: 843ms\tremaining: 3.01s\n",
      "219:\tlearn: 103.9931537\ttotal: 848ms\tremaining: 3s\n",
      "220:\tlearn: 103.8329005\ttotal: 852ms\tremaining: 3s\n",
      "221:\tlearn: 103.6870321\ttotal: 857ms\tremaining: 3s\n",
      "222:\tlearn: 103.5679258\ttotal: 861ms\tremaining: 3s\n",
      "223:\tlearn: 103.4235785\ttotal: 865ms\tremaining: 3s\n",
      "224:\tlearn: 103.2790142\ttotal: 869ms\tremaining: 2.99s\n",
      "225:\tlearn: 103.0826625\ttotal: 873ms\tremaining: 2.99s\n",
      "226:\tlearn: 102.9139428\ttotal: 877ms\tremaining: 2.99s\n",
      "227:\tlearn: 102.7017241\ttotal: 881ms\tremaining: 2.98s\n",
      "228:\tlearn: 102.5668596\ttotal: 885ms\tremaining: 2.98s\n",
      "229:\tlearn: 102.5375995\ttotal: 889ms\tremaining: 2.98s\n",
      "230:\tlearn: 102.4281771\ttotal: 893ms\tremaining: 2.97s\n",
      "231:\tlearn: 102.2929398\ttotal: 897ms\tremaining: 2.97s\n",
      "232:\tlearn: 102.1988745\ttotal: 901ms\tremaining: 2.96s\n",
      "233:\tlearn: 102.0705404\ttotal: 905ms\tremaining: 2.96s\n",
      "234:\tlearn: 101.9635239\ttotal: 908ms\tremaining: 2.96s\n",
      "235:\tlearn: 101.7407882\ttotal: 912ms\tremaining: 2.95s\n",
      "236:\tlearn: 101.7048303\ttotal: 916ms\tremaining: 2.95s\n",
      "237:\tlearn: 101.5780808\ttotal: 924ms\tremaining: 2.96s\n",
      "238:\tlearn: 101.3927603\ttotal: 928ms\tremaining: 2.95s\n",
      "239:\tlearn: 101.3586347\ttotal: 932ms\tremaining: 2.95s\n",
      "240:\tlearn: 101.2262268\ttotal: 936ms\tremaining: 2.95s\n",
      "241:\tlearn: 101.1257794\ttotal: 940ms\tremaining: 2.94s\n",
      "242:\tlearn: 100.9220917\ttotal: 944ms\tremaining: 2.94s\n",
      "243:\tlearn: 100.8051561\ttotal: 948ms\tremaining: 2.94s\n",
      "244:\tlearn: 100.7628952\ttotal: 951ms\tremaining: 2.93s\n",
      "245:\tlearn: 100.6691909\ttotal: 955ms\tremaining: 2.93s\n",
      "246:\tlearn: 100.5617481\ttotal: 960ms\tremaining: 2.93s\n",
      "247:\tlearn: 100.3179197\ttotal: 964ms\tremaining: 2.92s\n",
      "248:\tlearn: 100.2049341\ttotal: 968ms\tremaining: 2.92s\n",
      "249:\tlearn: 100.0325023\ttotal: 972ms\tremaining: 2.92s\n",
      "250:\tlearn: 99.8633216\ttotal: 977ms\tremaining: 2.91s\n",
      "251:\tlearn: 99.7385674\ttotal: 981ms\tremaining: 2.91s\n",
      "252:\tlearn: 99.6510642\ttotal: 986ms\tremaining: 2.91s\n",
      "253:\tlearn: 99.4305205\ttotal: 990ms\tremaining: 2.91s\n",
      "254:\tlearn: 99.3305570\ttotal: 994ms\tremaining: 2.9s\n",
      "255:\tlearn: 99.1714054\ttotal: 998ms\tremaining: 2.9s\n",
      "256:\tlearn: 99.0094203\ttotal: 1s\tremaining: 2.9s\n",
      "257:\tlearn: 98.8590556\ttotal: 1s\tremaining: 2.89s\n",
      "258:\tlearn: 98.6976456\ttotal: 1.01s\tremaining: 2.89s\n",
      "259:\tlearn: 98.5912520\ttotal: 1.01s\tremaining: 2.88s\n",
      "260:\tlearn: 98.4419316\ttotal: 1.02s\tremaining: 2.88s\n",
      "261:\tlearn: 98.3052400\ttotal: 1.02s\tremaining: 2.88s\n",
      "262:\tlearn: 98.2212770\ttotal: 1.03s\tremaining: 2.88s\n",
      "263:\tlearn: 98.1581633\ttotal: 1.03s\tremaining: 2.88s\n",
      "264:\tlearn: 98.1236730\ttotal: 1.04s\tremaining: 2.87s\n",
      "265:\tlearn: 98.0302240\ttotal: 1.04s\tremaining: 2.87s\n",
      "266:\tlearn: 97.9494967\ttotal: 1.04s\tremaining: 2.87s\n",
      "267:\tlearn: 97.9235082\ttotal: 1.05s\tremaining: 2.86s\n",
      "268:\tlearn: 97.7484947\ttotal: 1.05s\tremaining: 2.86s\n",
      "269:\tlearn: 97.6080637\ttotal: 1.06s\tremaining: 2.86s\n",
      "270:\tlearn: 97.5117791\ttotal: 1.06s\tremaining: 2.86s\n",
      "271:\tlearn: 97.4361938\ttotal: 1.07s\tremaining: 2.85s\n",
      "272:\tlearn: 97.2558180\ttotal: 1.07s\tremaining: 2.85s\n",
      "273:\tlearn: 97.0744964\ttotal: 1.07s\tremaining: 2.85s\n",
      "274:\tlearn: 97.0500785\ttotal: 1.08s\tremaining: 2.85s\n",
      "275:\tlearn: 96.9525320\ttotal: 1.08s\tremaining: 2.84s\n",
      "276:\tlearn: 96.8187656\ttotal: 1.09s\tremaining: 2.84s\n",
      "277:\tlearn: 96.7301666\ttotal: 1.09s\tremaining: 2.83s\n",
      "278:\tlearn: 96.7031125\ttotal: 1.09s\tremaining: 2.83s\n",
      "279:\tlearn: 96.6214302\ttotal: 1.1s\tremaining: 2.83s\n",
      "280:\tlearn: 96.5456949\ttotal: 1.1s\tremaining: 2.82s\n",
      "281:\tlearn: 96.5250158\ttotal: 1.11s\tremaining: 2.82s\n",
      "282:\tlearn: 96.3888229\ttotal: 1.11s\tremaining: 2.81s\n",
      "283:\tlearn: 96.2675711\ttotal: 1.12s\tremaining: 2.81s\n",
      "284:\tlearn: 96.1535679\ttotal: 1.12s\tremaining: 2.81s\n",
      "285:\tlearn: 96.1297891\ttotal: 1.13s\tremaining: 2.81s\n",
      "286:\tlearn: 96.0467103\ttotal: 1.13s\tremaining: 2.81s\n",
      "287:\tlearn: 96.0127604\ttotal: 1.13s\tremaining: 2.8s\n",
      "288:\tlearn: 95.8677299\ttotal: 1.14s\tremaining: 2.8s\n",
      "289:\tlearn: 95.8008958\ttotal: 1.14s\tremaining: 2.8s\n",
      "290:\tlearn: 95.7348980\ttotal: 1.15s\tremaining: 2.79s\n",
      "291:\tlearn: 95.6711110\ttotal: 1.15s\tremaining: 2.79s\n",
      "292:\tlearn: 95.5619455\ttotal: 1.15s\tremaining: 2.79s\n",
      "293:\tlearn: 95.4477672\ttotal: 1.16s\tremaining: 2.78s\n",
      "294:\tlearn: 95.3286878\ttotal: 1.16s\tremaining: 2.78s\n",
      "295:\tlearn: 95.2115173\ttotal: 1.17s\tremaining: 2.78s\n",
      "296:\tlearn: 95.1058479\ttotal: 1.17s\tremaining: 2.77s\n",
      "297:\tlearn: 95.0077993\ttotal: 1.18s\tremaining: 2.77s\n",
      "298:\tlearn: 94.9600910\ttotal: 1.18s\tremaining: 2.77s\n",
      "299:\tlearn: 94.8396722\ttotal: 1.18s\tremaining: 2.76s\n",
      "300:\tlearn: 94.7555827\ttotal: 1.19s\tremaining: 2.76s\n",
      "301:\tlearn: 94.6906840\ttotal: 1.19s\tremaining: 2.75s\n",
      "302:\tlearn: 94.6645277\ttotal: 1.2s\tremaining: 2.75s\n",
      "303:\tlearn: 94.6017983\ttotal: 1.2s\tremaining: 2.75s\n",
      "304:\tlearn: 94.4934004\ttotal: 1.2s\tremaining: 2.74s\n",
      "305:\tlearn: 94.4503980\ttotal: 1.21s\tremaining: 2.74s\n",
      "306:\tlearn: 94.3712075\ttotal: 1.21s\tremaining: 2.73s\n",
      "307:\tlearn: 94.2222729\ttotal: 1.22s\tremaining: 2.73s\n",
      "308:\tlearn: 94.1052698\ttotal: 1.22s\tremaining: 2.73s\n",
      "309:\tlearn: 94.0155726\ttotal: 1.22s\tremaining: 2.72s\n",
      "310:\tlearn: 93.9228597\ttotal: 1.23s\tremaining: 2.72s\n",
      "311:\tlearn: 93.8244664\ttotal: 1.23s\tremaining: 2.72s\n",
      "312:\tlearn: 93.7426940\ttotal: 1.24s\tremaining: 2.71s\n",
      "313:\tlearn: 93.6687476\ttotal: 1.24s\tremaining: 2.71s\n",
      "314:\tlearn: 93.5719129\ttotal: 1.24s\tremaining: 2.71s\n",
      "315:\tlearn: 93.4919664\ttotal: 1.25s\tremaining: 2.7s\n",
      "316:\tlearn: 93.4146701\ttotal: 1.25s\tremaining: 2.7s\n",
      "317:\tlearn: 93.3443025\ttotal: 1.26s\tremaining: 2.7s\n",
      "318:\tlearn: 93.2599905\ttotal: 1.26s\tremaining: 2.69s\n",
      "319:\tlearn: 93.1876122\ttotal: 1.26s\tremaining: 2.69s\n",
      "320:\tlearn: 93.1041595\ttotal: 1.27s\tremaining: 2.69s\n",
      "321:\tlearn: 93.0405617\ttotal: 1.27s\tremaining: 2.68s\n",
      "322:\tlearn: 92.9685727\ttotal: 1.28s\tremaining: 2.68s\n",
      "323:\tlearn: 92.9179557\ttotal: 1.28s\tremaining: 2.67s\n",
      "324:\tlearn: 92.8032292\ttotal: 1.29s\tremaining: 2.67s\n",
      "325:\tlearn: 92.7306118\ttotal: 1.29s\tremaining: 2.67s\n",
      "326:\tlearn: 92.6296314\ttotal: 1.29s\tremaining: 2.66s\n",
      "327:\tlearn: 92.5577511\ttotal: 1.3s\tremaining: 2.66s\n",
      "328:\tlearn: 92.4987123\ttotal: 1.3s\tremaining: 2.66s\n",
      "329:\tlearn: 92.4500936\ttotal: 1.31s\tremaining: 2.66s\n",
      "330:\tlearn: 92.3505461\ttotal: 1.31s\tremaining: 2.66s\n",
      "331:\tlearn: 92.2955307\ttotal: 1.32s\tremaining: 2.65s\n",
      "332:\tlearn: 92.2447072\ttotal: 1.32s\tremaining: 2.65s\n",
      "333:\tlearn: 92.1309555\ttotal: 1.33s\tremaining: 2.65s\n",
      "334:\tlearn: 92.0620282\ttotal: 1.33s\tremaining: 2.64s\n",
      "335:\tlearn: 91.9886337\ttotal: 1.33s\tremaining: 2.64s\n",
      "336:\tlearn: 91.9566748\ttotal: 1.34s\tremaining: 2.63s\n",
      "337:\tlearn: 91.8908406\ttotal: 1.34s\tremaining: 2.63s\n",
      "338:\tlearn: 91.8411001\ttotal: 1.35s\tremaining: 2.63s\n",
      "339:\tlearn: 91.6681777\ttotal: 1.35s\tremaining: 2.62s\n",
      "340:\tlearn: 91.6352668\ttotal: 1.35s\tremaining: 2.62s\n",
      "341:\tlearn: 91.6076736\ttotal: 1.36s\tremaining: 2.62s\n",
      "342:\tlearn: 91.5132202\ttotal: 1.36s\tremaining: 2.61s\n",
      "343:\tlearn: 91.4917488\ttotal: 1.37s\tremaining: 2.61s\n",
      "344:\tlearn: 91.4065224\ttotal: 1.37s\tremaining: 2.6s\n",
      "345:\tlearn: 91.3621475\ttotal: 1.38s\tremaining: 2.6s\n",
      "346:\tlearn: 91.3158535\ttotal: 1.38s\tremaining: 2.6s\n",
      "347:\tlearn: 91.3001150\ttotal: 1.38s\tremaining: 2.59s\n",
      "348:\tlearn: 91.2676987\ttotal: 1.39s\tremaining: 2.59s\n",
      "349:\tlearn: 91.2033257\ttotal: 1.39s\tremaining: 2.59s\n",
      "350:\tlearn: 91.1879309\ttotal: 1.4s\tremaining: 2.58s\n",
      "351:\tlearn: 91.1432009\ttotal: 1.4s\tremaining: 2.58s\n",
      "352:\tlearn: 91.0737501\ttotal: 1.41s\tremaining: 2.58s\n",
      "353:\tlearn: 90.9627261\ttotal: 1.41s\tremaining: 2.58s\n",
      "354:\tlearn: 90.8739244\ttotal: 1.42s\tremaining: 2.57s\n",
      "355:\tlearn: 90.7998532\ttotal: 1.42s\tremaining: 2.57s\n",
      "356:\tlearn: 90.7475651\ttotal: 1.42s\tremaining: 2.57s\n",
      "357:\tlearn: 90.6641114\ttotal: 1.43s\tremaining: 2.56s\n",
      "358:\tlearn: 90.5963403\ttotal: 1.43s\tremaining: 2.56s\n",
      "359:\tlearn: 90.5371640\ttotal: 1.44s\tremaining: 2.56s\n",
      "360:\tlearn: 90.4698006\ttotal: 1.44s\tremaining: 2.55s\n",
      "361:\tlearn: 90.3915139\ttotal: 1.45s\tremaining: 2.55s\n",
      "362:\tlearn: 90.2384447\ttotal: 1.45s\tremaining: 2.54s\n",
      "363:\tlearn: 90.1367467\ttotal: 1.46s\tremaining: 2.54s\n",
      "364:\tlearn: 90.0679616\ttotal: 1.46s\tremaining: 2.54s\n",
      "365:\tlearn: 89.9297542\ttotal: 1.46s\tremaining: 2.54s\n",
      "366:\tlearn: 89.9114240\ttotal: 1.47s\tremaining: 2.53s\n",
      "367:\tlearn: 89.8370490\ttotal: 1.47s\tremaining: 2.53s\n",
      "368:\tlearn: 89.7585737\ttotal: 1.48s\tremaining: 2.52s\n",
      "369:\tlearn: 89.7544842\ttotal: 1.48s\tremaining: 2.52s\n",
      "370:\tlearn: 89.6579855\ttotal: 1.48s\tremaining: 2.52s\n",
      "371:\tlearn: 89.5450880\ttotal: 1.49s\tremaining: 2.51s\n",
      "372:\tlearn: 89.4684859\ttotal: 1.49s\tremaining: 2.51s\n",
      "373:\tlearn: 89.3987171\ttotal: 1.5s\tremaining: 2.51s\n",
      "374:\tlearn: 89.3648912\ttotal: 1.5s\tremaining: 2.51s\n",
      "375:\tlearn: 89.3015575\ttotal: 1.51s\tremaining: 2.5s\n",
      "376:\tlearn: 89.2590353\ttotal: 1.51s\tremaining: 2.5s\n",
      "377:\tlearn: 89.1888435\ttotal: 1.52s\tremaining: 2.5s\n",
      "378:\tlearn: 89.1442677\ttotal: 1.52s\tremaining: 2.49s\n",
      "379:\tlearn: 89.0747224\ttotal: 1.53s\tremaining: 2.49s\n",
      "380:\tlearn: 88.9706255\ttotal: 1.53s\tremaining: 2.49s\n",
      "381:\tlearn: 88.8958348\ttotal: 1.53s\tremaining: 2.48s\n",
      "382:\tlearn: 88.7887982\ttotal: 1.54s\tremaining: 2.48s\n",
      "383:\tlearn: 88.7523452\ttotal: 1.54s\tremaining: 2.48s\n",
      "384:\tlearn: 88.6691505\ttotal: 1.55s\tremaining: 2.47s\n",
      "385:\tlearn: 88.5821328\ttotal: 1.55s\tremaining: 2.47s\n",
      "386:\tlearn: 88.4938235\ttotal: 1.56s\tremaining: 2.46s\n",
      "387:\tlearn: 88.4183494\ttotal: 1.56s\tremaining: 2.46s\n",
      "388:\tlearn: 88.3527840\ttotal: 1.56s\tremaining: 2.46s\n",
      "389:\tlearn: 88.2800574\ttotal: 1.57s\tremaining: 2.45s\n",
      "390:\tlearn: 88.2233062\ttotal: 1.57s\tremaining: 2.45s\n",
      "391:\tlearn: 88.1536905\ttotal: 1.58s\tremaining: 2.45s\n",
      "392:\tlearn: 88.0876967\ttotal: 1.58s\tremaining: 2.44s\n",
      "393:\tlearn: 88.0233797\ttotal: 1.58s\tremaining: 2.44s\n",
      "394:\tlearn: 87.9272644\ttotal: 1.59s\tremaining: 2.43s\n",
      "395:\tlearn: 87.9226045\ttotal: 1.59s\tremaining: 2.43s\n",
      "396:\tlearn: 87.8654292\ttotal: 1.6s\tremaining: 2.42s\n",
      "397:\tlearn: 87.8066935\ttotal: 1.6s\tremaining: 2.42s\n",
      "398:\tlearn: 87.7167699\ttotal: 1.6s\tremaining: 2.42s\n",
      "399:\tlearn: 87.6691345\ttotal: 1.61s\tremaining: 2.41s\n",
      "400:\tlearn: 87.5976931\ttotal: 1.61s\tremaining: 2.41s\n",
      "401:\tlearn: 87.5705734\ttotal: 1.62s\tremaining: 2.41s\n",
      "402:\tlearn: 87.4959173\ttotal: 1.62s\tremaining: 2.41s\n",
      "403:\tlearn: 87.4337630\ttotal: 1.63s\tremaining: 2.4s\n",
      "404:\tlearn: 87.3851676\ttotal: 1.63s\tremaining: 2.4s\n",
      "405:\tlearn: 87.3067041\ttotal: 1.64s\tremaining: 2.4s\n",
      "406:\tlearn: 87.1978982\ttotal: 1.64s\tremaining: 2.39s\n",
      "407:\tlearn: 87.0980038\ttotal: 1.65s\tremaining: 2.39s\n",
      "408:\tlearn: 87.0118839\ttotal: 1.65s\tremaining: 2.38s\n",
      "409:\tlearn: 86.9435461\ttotal: 1.66s\tremaining: 2.38s\n",
      "410:\tlearn: 86.9028886\ttotal: 1.66s\tremaining: 2.38s\n",
      "411:\tlearn: 86.8883093\ttotal: 1.66s\tremaining: 2.37s\n",
      "412:\tlearn: 86.8784700\ttotal: 1.67s\tremaining: 2.37s\n",
      "413:\tlearn: 86.8686967\ttotal: 1.67s\tremaining: 2.36s\n",
      "414:\tlearn: 86.7248564\ttotal: 1.67s\tremaining: 2.36s\n",
      "415:\tlearn: 86.7161865\ttotal: 1.68s\tremaining: 2.36s\n",
      "416:\tlearn: 86.7021141\ttotal: 1.68s\tremaining: 2.35s\n",
      "417:\tlearn: 86.6411463\ttotal: 1.69s\tremaining: 2.35s\n",
      "418:\tlearn: 86.5797819\ttotal: 1.69s\tremaining: 2.35s\n",
      "419:\tlearn: 86.5544005\ttotal: 1.7s\tremaining: 2.35s\n",
      "420:\tlearn: 86.4676276\ttotal: 1.7s\tremaining: 2.34s\n",
      "421:\tlearn: 86.4262451\ttotal: 1.71s\tremaining: 2.34s\n",
      "422:\tlearn: 86.3529648\ttotal: 1.71s\tremaining: 2.33s\n",
      "423:\tlearn: 86.3091059\ttotal: 1.72s\tremaining: 2.33s\n",
      "424:\tlearn: 86.2865218\ttotal: 1.72s\tremaining: 2.33s\n",
      "425:\tlearn: 86.2435881\ttotal: 1.73s\tremaining: 2.33s\n",
      "426:\tlearn: 86.2156251\ttotal: 1.73s\tremaining: 2.33s\n",
      "427:\tlearn: 86.1807513\ttotal: 1.74s\tremaining: 2.32s\n",
      "428:\tlearn: 86.1324486\ttotal: 1.74s\tremaining: 2.32s\n",
      "429:\tlearn: 86.0623297\ttotal: 1.75s\tremaining: 2.32s\n",
      "430:\tlearn: 85.9980434\ttotal: 1.76s\tremaining: 2.32s\n",
      "431:\tlearn: 85.9181755\ttotal: 1.76s\tremaining: 2.31s\n",
      "432:\tlearn: 85.7929898\ttotal: 1.76s\tremaining: 2.31s\n",
      "433:\tlearn: 85.7582290\ttotal: 1.77s\tremaining: 2.31s\n",
      "434:\tlearn: 85.7119556\ttotal: 1.77s\tremaining: 2.31s\n",
      "435:\tlearn: 85.6235807\ttotal: 1.78s\tremaining: 2.3s\n",
      "436:\tlearn: 85.5715984\ttotal: 1.79s\tremaining: 2.3s\n",
      "437:\tlearn: 85.5559766\ttotal: 1.79s\tremaining: 2.3s\n",
      "438:\tlearn: 85.5032311\ttotal: 1.8s\tremaining: 2.3s\n",
      "439:\tlearn: 85.4337396\ttotal: 1.8s\tremaining: 2.29s\n",
      "440:\tlearn: 85.3695765\ttotal: 1.81s\tremaining: 2.29s\n",
      "441:\tlearn: 85.3495636\ttotal: 1.81s\tremaining: 2.29s\n",
      "442:\tlearn: 85.3083282\ttotal: 1.82s\tremaining: 2.28s\n",
      "443:\tlearn: 85.2460080\ttotal: 1.82s\tremaining: 2.29s\n",
      "444:\tlearn: 85.1809056\ttotal: 1.83s\tremaining: 2.28s\n",
      "445:\tlearn: 85.1688898\ttotal: 1.83s\tremaining: 2.28s\n",
      "446:\tlearn: 85.0451013\ttotal: 1.84s\tremaining: 2.28s\n",
      "447:\tlearn: 84.9888601\ttotal: 1.85s\tremaining: 2.27s\n",
      "448:\tlearn: 84.9231083\ttotal: 1.85s\tremaining: 2.27s\n",
      "449:\tlearn: 84.8354861\ttotal: 1.86s\tremaining: 2.27s\n",
      "450:\tlearn: 84.7925324\ttotal: 1.86s\tremaining: 2.27s\n",
      "451:\tlearn: 84.7197262\ttotal: 1.87s\tremaining: 2.27s\n",
      "452:\tlearn: 84.6655177\ttotal: 1.87s\tremaining: 2.26s\n",
      "453:\tlearn: 84.5934450\ttotal: 1.88s\tremaining: 2.26s\n",
      "454:\tlearn: 84.5439369\ttotal: 1.89s\tremaining: 2.26s\n",
      "455:\tlearn: 84.4954780\ttotal: 1.89s\tremaining: 2.25s\n",
      "456:\tlearn: 84.4786955\ttotal: 1.9s\tremaining: 2.25s\n",
      "457:\tlearn: 84.4507700\ttotal: 1.9s\tremaining: 2.25s\n",
      "458:\tlearn: 84.2951626\ttotal: 1.91s\tremaining: 2.25s\n",
      "459:\tlearn: 84.1891015\ttotal: 1.91s\tremaining: 2.24s\n",
      "460:\tlearn: 84.1713584\ttotal: 1.92s\tremaining: 2.25s\n",
      "461:\tlearn: 84.1132130\ttotal: 1.93s\tremaining: 2.24s\n",
      "462:\tlearn: 84.0461731\ttotal: 1.93s\tremaining: 2.24s\n",
      "463:\tlearn: 84.0167646\ttotal: 1.94s\tremaining: 2.24s\n",
      "464:\tlearn: 83.9902221\ttotal: 1.95s\tremaining: 2.24s\n",
      "465:\tlearn: 83.9347291\ttotal: 1.95s\tremaining: 2.24s\n",
      "466:\tlearn: 83.8898448\ttotal: 1.96s\tremaining: 2.24s\n",
      "467:\tlearn: 83.8297578\ttotal: 1.96s\tremaining: 2.23s\n",
      "468:\tlearn: 83.7828829\ttotal: 1.97s\tremaining: 2.23s\n",
      "469:\tlearn: 83.7450005\ttotal: 1.97s\tremaining: 2.23s\n",
      "470:\tlearn: 83.7148201\ttotal: 1.98s\tremaining: 2.23s\n",
      "471:\tlearn: 83.6872939\ttotal: 1.99s\tremaining: 2.22s\n",
      "472:\tlearn: 83.6521570\ttotal: 1.99s\tremaining: 2.22s\n",
      "473:\tlearn: 83.5986403\ttotal: 2s\tremaining: 2.22s\n",
      "474:\tlearn: 83.5715703\ttotal: 2.01s\tremaining: 2.22s\n",
      "475:\tlearn: 83.5213239\ttotal: 2.01s\tremaining: 2.22s\n",
      "476:\tlearn: 83.4733084\ttotal: 2.02s\tremaining: 2.21s\n",
      "477:\tlearn: 83.4365450\ttotal: 2.02s\tremaining: 2.21s\n",
      "478:\tlearn: 83.3864992\ttotal: 2.03s\tremaining: 2.21s\n",
      "479:\tlearn: 83.3461547\ttotal: 2.04s\tremaining: 2.21s\n",
      "480:\tlearn: 83.2899712\ttotal: 2.04s\tremaining: 2.2s\n",
      "481:\tlearn: 83.2638298\ttotal: 2.05s\tremaining: 2.2s\n",
      "482:\tlearn: 83.1575434\ttotal: 2.05s\tremaining: 2.2s\n",
      "483:\tlearn: 83.1417506\ttotal: 2.06s\tremaining: 2.19s\n",
      "484:\tlearn: 83.0969785\ttotal: 2.06s\tremaining: 2.19s\n",
      "485:\tlearn: 83.0162084\ttotal: 2.08s\tremaining: 2.2s\n",
      "486:\tlearn: 82.9812660\ttotal: 2.08s\tremaining: 2.19s\n",
      "487:\tlearn: 82.9573846\ttotal: 2.09s\tremaining: 2.19s\n",
      "488:\tlearn: 82.9134737\ttotal: 2.1s\tremaining: 2.19s\n",
      "489:\tlearn: 82.8491330\ttotal: 2.1s\tremaining: 2.19s\n",
      "490:\tlearn: 82.8053447\ttotal: 2.1s\tremaining: 2.18s\n",
      "491:\tlearn: 82.7739630\ttotal: 2.11s\tremaining: 2.18s\n",
      "492:\tlearn: 82.7330931\ttotal: 2.11s\tremaining: 2.17s\n",
      "493:\tlearn: 82.6798721\ttotal: 2.12s\tremaining: 2.17s\n",
      "494:\tlearn: 82.6156763\ttotal: 2.13s\tremaining: 2.17s\n",
      "495:\tlearn: 82.6051098\ttotal: 2.13s\tremaining: 2.16s\n",
      "496:\tlearn: 82.4571305\ttotal: 2.13s\tremaining: 2.16s\n",
      "497:\tlearn: 82.4278192\ttotal: 2.14s\tremaining: 2.16s\n",
      "498:\tlearn: 82.3743387\ttotal: 2.15s\tremaining: 2.16s\n",
      "499:\tlearn: 82.3353297\ttotal: 2.15s\tremaining: 2.15s\n",
      "500:\tlearn: 82.3002065\ttotal: 2.16s\tremaining: 2.15s\n",
      "501:\tlearn: 82.2227378\ttotal: 2.17s\tremaining: 2.15s\n",
      "502:\tlearn: 82.1651307\ttotal: 2.17s\tremaining: 2.15s\n",
      "503:\tlearn: 82.1402686\ttotal: 2.18s\tremaining: 2.14s\n",
      "504:\tlearn: 82.0988947\ttotal: 2.18s\tremaining: 2.14s\n",
      "505:\tlearn: 82.0875528\ttotal: 2.19s\tremaining: 2.14s\n",
      "506:\tlearn: 82.0570680\ttotal: 2.2s\tremaining: 2.13s\n",
      "507:\tlearn: 81.9913282\ttotal: 2.2s\tremaining: 2.13s\n",
      "508:\tlearn: 81.9413539\ttotal: 2.21s\tremaining: 2.13s\n",
      "509:\tlearn: 81.8935951\ttotal: 2.21s\tremaining: 2.12s\n",
      "510:\tlearn: 81.8464506\ttotal: 2.21s\tremaining: 2.12s\n",
      "511:\tlearn: 81.7863503\ttotal: 2.22s\tremaining: 2.12s\n",
      "512:\tlearn: 81.7312882\ttotal: 2.23s\tremaining: 2.11s\n",
      "513:\tlearn: 81.6445804\ttotal: 2.23s\tremaining: 2.11s\n",
      "514:\tlearn: 81.5864121\ttotal: 2.24s\tremaining: 2.11s\n",
      "515:\tlearn: 81.5431357\ttotal: 2.24s\tremaining: 2.1s\n",
      "516:\tlearn: 81.5044797\ttotal: 2.25s\tremaining: 2.1s\n",
      "517:\tlearn: 81.4578906\ttotal: 2.25s\tremaining: 2.1s\n",
      "518:\tlearn: 81.4153663\ttotal: 2.26s\tremaining: 2.09s\n",
      "519:\tlearn: 81.3668230\ttotal: 2.26s\tremaining: 2.09s\n",
      "520:\tlearn: 81.3107137\ttotal: 2.27s\tremaining: 2.09s\n",
      "521:\tlearn: 81.2794247\ttotal: 2.28s\tremaining: 2.09s\n",
      "522:\tlearn: 81.2428227\ttotal: 2.28s\tremaining: 2.08s\n",
      "523:\tlearn: 81.1933877\ttotal: 2.29s\tremaining: 2.08s\n",
      "524:\tlearn: 81.1605703\ttotal: 2.3s\tremaining: 2.08s\n",
      "525:\tlearn: 81.1317961\ttotal: 2.3s\tremaining: 2.07s\n",
      "526:\tlearn: 80.9844266\ttotal: 2.31s\tremaining: 2.07s\n",
      "527:\tlearn: 80.9545806\ttotal: 2.31s\tremaining: 2.07s\n",
      "528:\tlearn: 80.9185582\ttotal: 2.32s\tremaining: 2.06s\n",
      "529:\tlearn: 80.8775135\ttotal: 2.32s\tremaining: 2.06s\n",
      "530:\tlearn: 80.8199741\ttotal: 2.33s\tremaining: 2.06s\n",
      "531:\tlearn: 80.7801315\ttotal: 2.33s\tremaining: 2.05s\n",
      "532:\tlearn: 80.7349016\ttotal: 2.34s\tremaining: 2.05s\n",
      "533:\tlearn: 80.7189417\ttotal: 2.35s\tremaining: 2.05s\n",
      "534:\tlearn: 80.6692548\ttotal: 2.35s\tremaining: 2.04s\n",
      "535:\tlearn: 80.6300252\ttotal: 2.35s\tremaining: 2.04s\n",
      "536:\tlearn: 80.5848809\ttotal: 2.36s\tremaining: 2.04s\n",
      "537:\tlearn: 80.5313159\ttotal: 2.37s\tremaining: 2.03s\n",
      "538:\tlearn: 80.4938225\ttotal: 2.37s\tremaining: 2.03s\n",
      "539:\tlearn: 80.4372471\ttotal: 2.38s\tremaining: 2.02s\n",
      "540:\tlearn: 80.4085440\ttotal: 2.38s\tremaining: 2.02s\n",
      "541:\tlearn: 80.3473987\ttotal: 2.39s\tremaining: 2.02s\n",
      "542:\tlearn: 80.2893782\ttotal: 2.39s\tremaining: 2.02s\n",
      "543:\tlearn: 80.2700151\ttotal: 2.4s\tremaining: 2.01s\n",
      "544:\tlearn: 80.2233800\ttotal: 2.41s\tremaining: 2.01s\n",
      "545:\tlearn: 80.1835443\ttotal: 2.41s\tremaining: 2.01s\n",
      "546:\tlearn: 80.1428343\ttotal: 2.42s\tremaining: 2s\n",
      "547:\tlearn: 80.1099512\ttotal: 2.42s\tremaining: 2s\n",
      "548:\tlearn: 80.0430915\ttotal: 2.43s\tremaining: 1.99s\n",
      "549:\tlearn: 79.9940879\ttotal: 2.43s\tremaining: 1.99s\n",
      "550:\tlearn: 79.9472825\ttotal: 2.44s\tremaining: 1.99s\n",
      "551:\tlearn: 79.9105596\ttotal: 2.45s\tremaining: 1.99s\n",
      "552:\tlearn: 79.8710894\ttotal: 2.45s\tremaining: 1.98s\n",
      "553:\tlearn: 79.8310409\ttotal: 2.46s\tremaining: 1.98s\n",
      "554:\tlearn: 79.7668886\ttotal: 2.47s\tremaining: 1.98s\n",
      "555:\tlearn: 79.7007551\ttotal: 2.48s\tremaining: 1.98s\n",
      "556:\tlearn: 79.6480987\ttotal: 2.48s\tremaining: 1.97s\n",
      "557:\tlearn: 79.6165844\ttotal: 2.49s\tremaining: 1.97s\n",
      "558:\tlearn: 79.6041439\ttotal: 2.49s\tremaining: 1.96s\n",
      "559:\tlearn: 79.5437789\ttotal: 2.49s\tremaining: 1.96s\n",
      "560:\tlearn: 79.4995423\ttotal: 2.5s\tremaining: 1.96s\n",
      "561:\tlearn: 79.4622113\ttotal: 2.5s\tremaining: 1.95s\n",
      "562:\tlearn: 79.4408768\ttotal: 2.51s\tremaining: 1.95s\n",
      "563:\tlearn: 79.2634202\ttotal: 2.52s\tremaining: 1.95s\n",
      "564:\tlearn: 79.2239165\ttotal: 2.53s\tremaining: 1.94s\n",
      "565:\tlearn: 79.1092391\ttotal: 2.54s\tremaining: 1.95s\n",
      "566:\tlearn: 79.0813594\ttotal: 2.55s\tremaining: 1.94s\n",
      "567:\tlearn: 79.0315604\ttotal: 2.56s\tremaining: 1.94s\n",
      "568:\tlearn: 78.9891161\ttotal: 2.56s\tremaining: 1.94s\n",
      "569:\tlearn: 78.9686807\ttotal: 2.57s\tremaining: 1.94s\n",
      "570:\tlearn: 78.9272833\ttotal: 2.57s\tremaining: 1.93s\n",
      "571:\tlearn: 78.9103743\ttotal: 2.58s\tremaining: 1.93s\n",
      "572:\tlearn: 78.8982931\ttotal: 2.59s\tremaining: 1.93s\n",
      "573:\tlearn: 78.8582150\ttotal: 2.59s\tremaining: 1.92s\n",
      "574:\tlearn: 78.8077275\ttotal: 2.6s\tremaining: 1.92s\n",
      "575:\tlearn: 78.7781214\ttotal: 2.6s\tremaining: 1.92s\n",
      "576:\tlearn: 78.7309912\ttotal: 2.61s\tremaining: 1.91s\n",
      "577:\tlearn: 78.6897280\ttotal: 2.62s\tremaining: 1.91s\n",
      "578:\tlearn: 78.6654504\ttotal: 2.63s\tremaining: 1.91s\n",
      "579:\tlearn: 78.6510869\ttotal: 2.63s\tremaining: 1.91s\n",
      "580:\tlearn: 78.6063373\ttotal: 2.64s\tremaining: 1.9s\n",
      "581:\tlearn: 78.5607606\ttotal: 2.64s\tremaining: 1.9s\n",
      "582:\tlearn: 78.5225930\ttotal: 2.65s\tremaining: 1.89s\n",
      "583:\tlearn: 78.4702504\ttotal: 2.66s\tremaining: 1.89s\n",
      "584:\tlearn: 78.4058219\ttotal: 2.66s\tremaining: 1.89s\n",
      "585:\tlearn: 78.3742791\ttotal: 2.67s\tremaining: 1.89s\n",
      "586:\tlearn: 78.3367770\ttotal: 2.68s\tremaining: 1.89s\n",
      "587:\tlearn: 78.3271729\ttotal: 2.69s\tremaining: 1.88s\n",
      "588:\tlearn: 78.2963940\ttotal: 2.69s\tremaining: 1.88s\n",
      "589:\tlearn: 78.2143489\ttotal: 2.7s\tremaining: 1.88s\n",
      "590:\tlearn: 78.1714257\ttotal: 2.71s\tremaining: 1.87s\n",
      "591:\tlearn: 78.1234627\ttotal: 2.71s\tremaining: 1.87s\n",
      "592:\tlearn: 78.0959549\ttotal: 2.71s\tremaining: 1.86s\n",
      "593:\tlearn: 78.0814670\ttotal: 2.72s\tremaining: 1.86s\n",
      "594:\tlearn: 78.0359184\ttotal: 2.73s\tremaining: 1.85s\n",
      "595:\tlearn: 77.9956782\ttotal: 2.73s\tremaining: 1.85s\n",
      "596:\tlearn: 77.9360405\ttotal: 2.74s\tremaining: 1.85s\n",
      "597:\tlearn: 77.8961585\ttotal: 2.75s\tremaining: 1.85s\n",
      "598:\tlearn: 77.8686407\ttotal: 2.75s\tremaining: 1.84s\n",
      "599:\tlearn: 77.7833111\ttotal: 2.75s\tremaining: 1.84s\n",
      "600:\tlearn: 77.7101857\ttotal: 2.76s\tremaining: 1.83s\n",
      "601:\tlearn: 77.7013054\ttotal: 2.77s\tremaining: 1.83s\n",
      "602:\tlearn: 77.6550181\ttotal: 2.77s\tremaining: 1.82s\n",
      "603:\tlearn: 77.6322809\ttotal: 2.78s\tremaining: 1.82s\n",
      "604:\tlearn: 77.5971424\ttotal: 2.78s\tremaining: 1.82s\n",
      "605:\tlearn: 77.5546419\ttotal: 2.79s\tremaining: 1.81s\n",
      "606:\tlearn: 77.5130194\ttotal: 2.79s\tremaining: 1.81s\n",
      "607:\tlearn: 77.4411749\ttotal: 2.8s\tremaining: 1.8s\n",
      "608:\tlearn: 77.3827500\ttotal: 2.81s\tremaining: 1.8s\n",
      "609:\tlearn: 77.3545434\ttotal: 2.82s\tremaining: 1.8s\n",
      "610:\tlearn: 77.3194923\ttotal: 2.83s\tremaining: 1.8s\n",
      "611:\tlearn: 77.2936450\ttotal: 2.84s\tremaining: 1.8s\n",
      "612:\tlearn: 77.2829644\ttotal: 2.84s\tremaining: 1.79s\n",
      "613:\tlearn: 77.2539458\ttotal: 2.85s\tremaining: 1.79s\n",
      "614:\tlearn: 77.2014170\ttotal: 2.85s\tremaining: 1.79s\n",
      "615:\tlearn: 77.1623101\ttotal: 2.86s\tremaining: 1.78s\n",
      "616:\tlearn: 77.1084042\ttotal: 2.87s\tremaining: 1.78s\n",
      "617:\tlearn: 76.9377933\ttotal: 2.88s\tremaining: 1.78s\n",
      "618:\tlearn: 76.8904631\ttotal: 2.88s\tremaining: 1.77s\n",
      "619:\tlearn: 76.8620698\ttotal: 2.89s\tremaining: 1.77s\n",
      "620:\tlearn: 76.8278036\ttotal: 2.9s\tremaining: 1.77s\n",
      "621:\tlearn: 76.8188943\ttotal: 2.91s\tremaining: 1.77s\n",
      "622:\tlearn: 76.7739800\ttotal: 2.91s\tremaining: 1.76s\n",
      "623:\tlearn: 76.7396880\ttotal: 2.92s\tremaining: 1.76s\n",
      "624:\tlearn: 76.7162739\ttotal: 2.92s\tremaining: 1.75s\n",
      "625:\tlearn: 76.6772516\ttotal: 2.93s\tremaining: 1.75s\n",
      "626:\tlearn: 76.6438333\ttotal: 2.94s\tremaining: 1.75s\n",
      "627:\tlearn: 76.6358254\ttotal: 2.94s\tremaining: 1.74s\n",
      "628:\tlearn: 76.6052144\ttotal: 2.94s\tremaining: 1.74s\n",
      "629:\tlearn: 76.5849800\ttotal: 2.95s\tremaining: 1.73s\n",
      "630:\tlearn: 76.5597300\ttotal: 2.95s\tremaining: 1.73s\n",
      "631:\tlearn: 76.5322335\ttotal: 2.96s\tremaining: 1.72s\n",
      "632:\tlearn: 76.4989401\ttotal: 2.96s\tremaining: 1.72s\n",
      "633:\tlearn: 76.4404515\ttotal: 2.96s\tremaining: 1.71s\n",
      "634:\tlearn: 76.4084934\ttotal: 2.97s\tremaining: 1.71s\n",
      "635:\tlearn: 76.3738784\ttotal: 2.97s\tremaining: 1.7s\n",
      "636:\tlearn: 76.3475555\ttotal: 2.98s\tremaining: 1.7s\n",
      "637:\tlearn: 76.3100853\ttotal: 2.98s\tremaining: 1.69s\n",
      "638:\tlearn: 76.2890292\ttotal: 2.99s\tremaining: 1.69s\n",
      "639:\tlearn: 76.2781823\ttotal: 2.99s\tremaining: 1.68s\n",
      "640:\tlearn: 76.2394115\ttotal: 3s\tremaining: 1.68s\n",
      "641:\tlearn: 76.2206262\ttotal: 3s\tremaining: 1.67s\n",
      "642:\tlearn: 76.2099767\ttotal: 3s\tremaining: 1.67s\n",
      "643:\tlearn: 76.1855591\ttotal: 3.01s\tremaining: 1.66s\n",
      "644:\tlearn: 76.1541728\ttotal: 3.01s\tremaining: 1.66s\n",
      "645:\tlearn: 76.1081671\ttotal: 3.02s\tremaining: 1.65s\n",
      "646:\tlearn: 76.0667948\ttotal: 3.02s\tremaining: 1.65s\n",
      "647:\tlearn: 76.0307529\ttotal: 3.03s\tremaining: 1.64s\n",
      "648:\tlearn: 76.0065083\ttotal: 3.03s\tremaining: 1.64s\n",
      "649:\tlearn: 75.9683453\ttotal: 3.03s\tremaining: 1.63s\n",
      "650:\tlearn: 75.8947835\ttotal: 3.04s\tremaining: 1.63s\n",
      "651:\tlearn: 75.8722559\ttotal: 3.04s\tremaining: 1.62s\n",
      "652:\tlearn: 75.8262017\ttotal: 3.05s\tremaining: 1.62s\n",
      "653:\tlearn: 75.7796160\ttotal: 3.05s\tremaining: 1.61s\n",
      "654:\tlearn: 75.7613071\ttotal: 3.06s\tremaining: 1.61s\n",
      "655:\tlearn: 75.7539001\ttotal: 3.06s\tremaining: 1.6s\n",
      "656:\tlearn: 75.7205202\ttotal: 3.07s\tremaining: 1.6s\n",
      "657:\tlearn: 75.6724385\ttotal: 3.07s\tremaining: 1.59s\n",
      "658:\tlearn: 75.6258299\ttotal: 3.07s\tremaining: 1.59s\n",
      "659:\tlearn: 75.5897588\ttotal: 3.08s\tremaining: 1.58s\n",
      "660:\tlearn: 75.5799980\ttotal: 3.08s\tremaining: 1.58s\n",
      "661:\tlearn: 75.5432741\ttotal: 3.09s\tremaining: 1.57s\n",
      "662:\tlearn: 75.5327435\ttotal: 3.09s\tremaining: 1.57s\n",
      "663:\tlearn: 75.5055175\ttotal: 3.09s\tremaining: 1.56s\n",
      "664:\tlearn: 75.4755745\ttotal: 3.1s\tremaining: 1.56s\n",
      "665:\tlearn: 75.4676624\ttotal: 3.1s\tremaining: 1.56s\n",
      "666:\tlearn: 75.4335905\ttotal: 3.11s\tremaining: 1.55s\n",
      "667:\tlearn: 75.3950546\ttotal: 3.11s\tremaining: 1.55s\n",
      "668:\tlearn: 75.3521849\ttotal: 3.12s\tremaining: 1.54s\n",
      "669:\tlearn: 75.3323468\ttotal: 3.12s\tremaining: 1.54s\n",
      "670:\tlearn: 75.3124864\ttotal: 3.12s\tremaining: 1.53s\n",
      "671:\tlearn: 75.2991370\ttotal: 3.13s\tremaining: 1.53s\n",
      "672:\tlearn: 75.2642688\ttotal: 3.13s\tremaining: 1.52s\n",
      "673:\tlearn: 75.2219711\ttotal: 3.13s\tremaining: 1.52s\n",
      "674:\tlearn: 75.1560923\ttotal: 3.14s\tremaining: 1.51s\n",
      "675:\tlearn: 75.1389963\ttotal: 3.14s\tremaining: 1.51s\n",
      "676:\tlearn: 75.1076556\ttotal: 3.15s\tremaining: 1.5s\n",
      "677:\tlearn: 75.0901393\ttotal: 3.15s\tremaining: 1.5s\n",
      "678:\tlearn: 75.0588601\ttotal: 3.16s\tremaining: 1.49s\n",
      "679:\tlearn: 75.0149649\ttotal: 3.16s\tremaining: 1.49s\n",
      "680:\tlearn: 74.9793616\ttotal: 3.16s\tremaining: 1.48s\n",
      "681:\tlearn: 74.9632269\ttotal: 3.17s\tremaining: 1.48s\n",
      "682:\tlearn: 74.9354618\ttotal: 3.17s\tremaining: 1.47s\n",
      "683:\tlearn: 74.9082453\ttotal: 3.18s\tremaining: 1.47s\n",
      "684:\tlearn: 74.8808020\ttotal: 3.18s\tremaining: 1.46s\n",
      "685:\tlearn: 74.8486427\ttotal: 3.19s\tremaining: 1.46s\n",
      "686:\tlearn: 74.7999110\ttotal: 3.19s\tremaining: 1.45s\n",
      "687:\tlearn: 74.7330578\ttotal: 3.2s\tremaining: 1.45s\n",
      "688:\tlearn: 74.7063109\ttotal: 3.21s\tremaining: 1.45s\n",
      "689:\tlearn: 74.6989705\ttotal: 3.21s\tremaining: 1.44s\n",
      "690:\tlearn: 74.6726655\ttotal: 3.22s\tremaining: 1.44s\n",
      "691:\tlearn: 74.6448503\ttotal: 3.23s\tremaining: 1.44s\n",
      "692:\tlearn: 74.6118998\ttotal: 3.23s\tremaining: 1.43s\n",
      "693:\tlearn: 74.5960061\ttotal: 3.24s\tremaining: 1.43s\n",
      "694:\tlearn: 74.5669593\ttotal: 3.25s\tremaining: 1.43s\n",
      "695:\tlearn: 74.5475768\ttotal: 3.25s\tremaining: 1.42s\n",
      "696:\tlearn: 74.5211328\ttotal: 3.26s\tremaining: 1.42s\n",
      "697:\tlearn: 74.5008417\ttotal: 3.26s\tremaining: 1.41s\n",
      "698:\tlearn: 74.4751955\ttotal: 3.27s\tremaining: 1.41s\n",
      "699:\tlearn: 74.4627549\ttotal: 3.27s\tremaining: 1.4s\n",
      "700:\tlearn: 74.4218517\ttotal: 3.28s\tremaining: 1.4s\n",
      "701:\tlearn: 74.4019342\ttotal: 3.29s\tremaining: 1.4s\n",
      "702:\tlearn: 74.3761490\ttotal: 3.29s\tremaining: 1.39s\n",
      "703:\tlearn: 74.3476332\ttotal: 3.3s\tremaining: 1.39s\n",
      "704:\tlearn: 74.3409081\ttotal: 3.3s\tremaining: 1.38s\n",
      "705:\tlearn: 74.3070422\ttotal: 3.31s\tremaining: 1.38s\n",
      "706:\tlearn: 74.2800908\ttotal: 3.31s\tremaining: 1.37s\n",
      "707:\tlearn: 74.2547018\ttotal: 3.32s\tremaining: 1.37s\n",
      "708:\tlearn: 74.2173841\ttotal: 3.32s\tremaining: 1.36s\n",
      "709:\tlearn: 74.1954754\ttotal: 3.33s\tremaining: 1.36s\n",
      "710:\tlearn: 74.1743977\ttotal: 3.33s\tremaining: 1.35s\n",
      "711:\tlearn: 74.1426445\ttotal: 3.34s\tremaining: 1.35s\n",
      "712:\tlearn: 74.1117681\ttotal: 3.34s\tremaining: 1.34s\n",
      "713:\tlearn: 74.0987761\ttotal: 3.34s\tremaining: 1.34s\n",
      "714:\tlearn: 74.0727436\ttotal: 3.35s\tremaining: 1.33s\n",
      "715:\tlearn: 74.0554373\ttotal: 3.35s\tremaining: 1.33s\n",
      "716:\tlearn: 74.0503169\ttotal: 3.36s\tremaining: 1.32s\n",
      "717:\tlearn: 74.0348417\ttotal: 3.36s\tremaining: 1.32s\n",
      "718:\tlearn: 74.0096340\ttotal: 3.36s\tremaining: 1.31s\n",
      "719:\tlearn: 73.9928677\ttotal: 3.37s\tremaining: 1.31s\n",
      "720:\tlearn: 73.9707230\ttotal: 3.37s\tremaining: 1.3s\n",
      "721:\tlearn: 73.9526773\ttotal: 3.38s\tremaining: 1.3s\n",
      "722:\tlearn: 73.9241308\ttotal: 3.38s\tremaining: 1.3s\n",
      "723:\tlearn: 73.9032528\ttotal: 3.39s\tremaining: 1.29s\n",
      "724:\tlearn: 73.8823414\ttotal: 3.39s\tremaining: 1.29s\n",
      "725:\tlearn: 73.8467791\ttotal: 3.4s\tremaining: 1.28s\n",
      "726:\tlearn: 73.8135820\ttotal: 3.4s\tremaining: 1.28s\n",
      "727:\tlearn: 73.8034133\ttotal: 3.41s\tremaining: 1.27s\n",
      "728:\tlearn: 73.7620684\ttotal: 3.41s\tremaining: 1.27s\n",
      "729:\tlearn: 73.7370975\ttotal: 3.42s\tremaining: 1.26s\n",
      "730:\tlearn: 73.7126534\ttotal: 3.42s\tremaining: 1.26s\n",
      "731:\tlearn: 73.6964066\ttotal: 3.43s\tremaining: 1.25s\n",
      "732:\tlearn: 73.6712142\ttotal: 3.44s\tremaining: 1.25s\n",
      "733:\tlearn: 73.6414829\ttotal: 3.44s\tremaining: 1.25s\n",
      "734:\tlearn: 73.6243023\ttotal: 3.44s\tremaining: 1.24s\n",
      "735:\tlearn: 73.5943774\ttotal: 3.45s\tremaining: 1.24s\n",
      "736:\tlearn: 73.5339150\ttotal: 3.45s\tremaining: 1.23s\n",
      "737:\tlearn: 73.5026899\ttotal: 3.46s\tremaining: 1.23s\n",
      "738:\tlearn: 73.4936443\ttotal: 3.46s\tremaining: 1.22s\n",
      "739:\tlearn: 73.4526802\ttotal: 3.47s\tremaining: 1.22s\n",
      "740:\tlearn: 73.4309789\ttotal: 3.47s\tremaining: 1.21s\n",
      "741:\tlearn: 73.4112297\ttotal: 3.48s\tremaining: 1.21s\n",
      "742:\tlearn: 73.3781119\ttotal: 3.48s\tremaining: 1.2s\n",
      "743:\tlearn: 73.3574322\ttotal: 3.48s\tremaining: 1.2s\n",
      "744:\tlearn: 73.3370613\ttotal: 3.49s\tremaining: 1.19s\n",
      "745:\tlearn: 73.3195641\ttotal: 3.49s\tremaining: 1.19s\n",
      "746:\tlearn: 73.2924520\ttotal: 3.5s\tremaining: 1.18s\n",
      "747:\tlearn: 73.2827421\ttotal: 3.5s\tremaining: 1.18s\n",
      "748:\tlearn: 73.2759111\ttotal: 3.51s\tremaining: 1.17s\n",
      "749:\tlearn: 73.1670474\ttotal: 3.51s\tremaining: 1.17s\n",
      "750:\tlearn: 73.1033681\ttotal: 3.51s\tremaining: 1.17s\n",
      "751:\tlearn: 73.0827104\ttotal: 3.52s\tremaining: 1.16s\n",
      "752:\tlearn: 73.0590041\ttotal: 3.52s\tremaining: 1.16s\n",
      "753:\tlearn: 73.0448696\ttotal: 3.53s\tremaining: 1.15s\n",
      "754:\tlearn: 73.0201756\ttotal: 3.53s\tremaining: 1.15s\n",
      "755:\tlearn: 73.0010250\ttotal: 3.54s\tremaining: 1.14s\n",
      "756:\tlearn: 72.9629302\ttotal: 3.54s\tremaining: 1.14s\n",
      "757:\tlearn: 72.9461891\ttotal: 3.54s\tremaining: 1.13s\n",
      "758:\tlearn: 72.9202105\ttotal: 3.55s\tremaining: 1.13s\n",
      "759:\tlearn: 72.8789826\ttotal: 3.55s\tremaining: 1.12s\n",
      "760:\tlearn: 72.8425875\ttotal: 3.55s\tremaining: 1.12s\n",
      "761:\tlearn: 72.8236790\ttotal: 3.56s\tremaining: 1.11s\n",
      "762:\tlearn: 72.8021022\ttotal: 3.56s\tremaining: 1.11s\n",
      "763:\tlearn: 72.6633815\ttotal: 3.57s\tremaining: 1.1s\n",
      "764:\tlearn: 72.6430173\ttotal: 3.57s\tremaining: 1.1s\n",
      "765:\tlearn: 72.6244132\ttotal: 3.58s\tremaining: 1.09s\n",
      "766:\tlearn: 72.6032040\ttotal: 3.58s\tremaining: 1.09s\n",
      "767:\tlearn: 72.5880616\ttotal: 3.59s\tremaining: 1.08s\n",
      "768:\tlearn: 72.5738776\ttotal: 3.59s\tremaining: 1.08s\n",
      "769:\tlearn: 72.5676476\ttotal: 3.6s\tremaining: 1.07s\n",
      "770:\tlearn: 72.5316902\ttotal: 3.6s\tremaining: 1.07s\n",
      "771:\tlearn: 72.5130639\ttotal: 3.6s\tremaining: 1.06s\n",
      "772:\tlearn: 72.4958953\ttotal: 3.61s\tremaining: 1.06s\n",
      "773:\tlearn: 72.4774310\ttotal: 3.61s\tremaining: 1.05s\n",
      "774:\tlearn: 72.4467884\ttotal: 3.62s\tremaining: 1.05s\n",
      "775:\tlearn: 72.4347578\ttotal: 3.62s\tremaining: 1.04s\n",
      "776:\tlearn: 72.4166326\ttotal: 3.63s\tremaining: 1.04s\n",
      "777:\tlearn: 72.3750208\ttotal: 3.63s\tremaining: 1.04s\n",
      "778:\tlearn: 72.3329257\ttotal: 3.63s\tremaining: 1.03s\n",
      "779:\tlearn: 72.2898504\ttotal: 3.64s\tremaining: 1.03s\n",
      "780:\tlearn: 72.2762388\ttotal: 3.64s\tremaining: 1.02s\n",
      "781:\tlearn: 72.2458065\ttotal: 3.65s\tremaining: 1.02s\n",
      "782:\tlearn: 72.2171971\ttotal: 3.65s\tremaining: 1.01s\n",
      "783:\tlearn: 72.1898773\ttotal: 3.65s\tremaining: 1.01s\n",
      "784:\tlearn: 72.1604734\ttotal: 3.66s\tremaining: 1s\n",
      "785:\tlearn: 72.1480422\ttotal: 3.66s\tremaining: 998ms\n",
      "786:\tlearn: 72.1366718\ttotal: 3.67s\tremaining: 993ms\n",
      "787:\tlearn: 72.1282118\ttotal: 3.67s\tremaining: 988ms\n",
      "788:\tlearn: 72.0011149\ttotal: 3.68s\tremaining: 983ms\n",
      "789:\tlearn: 71.9798627\ttotal: 3.68s\tremaining: 978ms\n",
      "790:\tlearn: 71.9508363\ttotal: 3.68s\tremaining: 974ms\n",
      "791:\tlearn: 71.9223097\ttotal: 3.69s\tremaining: 969ms\n",
      "792:\tlearn: 71.8797448\ttotal: 3.69s\tremaining: 964ms\n",
      "793:\tlearn: 71.8586690\ttotal: 3.7s\tremaining: 959ms\n",
      "794:\tlearn: 71.8300691\ttotal: 3.7s\tremaining: 954ms\n",
      "795:\tlearn: 71.7962020\ttotal: 3.71s\tremaining: 950ms\n",
      "796:\tlearn: 71.7644251\ttotal: 3.71s\tremaining: 945ms\n",
      "797:\tlearn: 71.7438500\ttotal: 3.71s\tremaining: 940ms\n",
      "798:\tlearn: 71.7101468\ttotal: 3.72s\tremaining: 935ms\n",
      "799:\tlearn: 71.6918191\ttotal: 3.72s\tremaining: 930ms\n",
      "800:\tlearn: 71.6649122\ttotal: 3.73s\tremaining: 926ms\n",
      "801:\tlearn: 71.6449905\ttotal: 3.73s\tremaining: 921ms\n",
      "802:\tlearn: 71.6182763\ttotal: 3.73s\tremaining: 916ms\n",
      "803:\tlearn: 71.5873786\ttotal: 3.74s\tremaining: 911ms\n",
      "804:\tlearn: 71.5733301\ttotal: 3.74s\tremaining: 906ms\n",
      "805:\tlearn: 71.5400073\ttotal: 3.75s\tremaining: 901ms\n",
      "806:\tlearn: 71.5178754\ttotal: 3.75s\tremaining: 897ms\n",
      "807:\tlearn: 71.5072303\ttotal: 3.75s\tremaining: 892ms\n",
      "808:\tlearn: 71.4705497\ttotal: 3.76s\tremaining: 888ms\n",
      "809:\tlearn: 71.4457190\ttotal: 3.76s\tremaining: 883ms\n",
      "810:\tlearn: 71.3190010\ttotal: 3.77s\tremaining: 878ms\n",
      "811:\tlearn: 71.2926877\ttotal: 3.77s\tremaining: 874ms\n",
      "812:\tlearn: 71.2696202\ttotal: 3.78s\tremaining: 869ms\n",
      "813:\tlearn: 71.2380138\ttotal: 3.78s\tremaining: 864ms\n",
      "814:\tlearn: 71.2271130\ttotal: 3.79s\tremaining: 859ms\n",
      "815:\tlearn: 71.2127511\ttotal: 3.79s\tremaining: 854ms\n",
      "816:\tlearn: 71.1928893\ttotal: 3.79s\tremaining: 850ms\n",
      "817:\tlearn: 71.0546057\ttotal: 3.8s\tremaining: 845ms\n",
      "818:\tlearn: 71.0245072\ttotal: 3.8s\tremaining: 840ms\n",
      "819:\tlearn: 71.0072961\ttotal: 3.81s\tremaining: 835ms\n",
      "820:\tlearn: 70.9796257\ttotal: 3.81s\tremaining: 831ms\n",
      "821:\tlearn: 70.9699045\ttotal: 3.81s\tremaining: 826ms\n",
      "822:\tlearn: 70.9089321\ttotal: 3.82s\tremaining: 821ms\n",
      "823:\tlearn: 70.8963185\ttotal: 3.82s\tremaining: 817ms\n",
      "824:\tlearn: 70.8727466\ttotal: 3.83s\tremaining: 812ms\n",
      "825:\tlearn: 70.8620901\ttotal: 3.83s\tremaining: 807ms\n",
      "826:\tlearn: 70.8539622\ttotal: 3.83s\tremaining: 802ms\n",
      "827:\tlearn: 70.8470536\ttotal: 3.84s\tremaining: 798ms\n",
      "828:\tlearn: 70.8295803\ttotal: 3.84s\tremaining: 793ms\n",
      "829:\tlearn: 70.8212666\ttotal: 3.85s\tremaining: 788ms\n",
      "830:\tlearn: 70.8088932\ttotal: 3.85s\tremaining: 783ms\n",
      "831:\tlearn: 70.8049310\ttotal: 3.85s\tremaining: 779ms\n",
      "832:\tlearn: 70.7866446\ttotal: 3.86s\tremaining: 774ms\n",
      "833:\tlearn: 70.7787139\ttotal: 3.86s\tremaining: 769ms\n",
      "834:\tlearn: 70.7457252\ttotal: 3.87s\tremaining: 764ms\n",
      "835:\tlearn: 70.7320175\ttotal: 3.87s\tremaining: 760ms\n",
      "836:\tlearn: 70.7147920\ttotal: 3.88s\tremaining: 755ms\n",
      "837:\tlearn: 70.6963691\ttotal: 3.88s\tremaining: 750ms\n",
      "838:\tlearn: 70.6640918\ttotal: 3.88s\tremaining: 746ms\n",
      "839:\tlearn: 70.6543316\ttotal: 3.89s\tremaining: 741ms\n",
      "840:\tlearn: 70.6487699\ttotal: 3.89s\tremaining: 736ms\n",
      "841:\tlearn: 70.6311060\ttotal: 3.9s\tremaining: 731ms\n",
      "842:\tlearn: 70.6075394\ttotal: 3.9s\tremaining: 727ms\n",
      "843:\tlearn: 70.5908360\ttotal: 3.9s\tremaining: 722ms\n",
      "844:\tlearn: 70.5718609\ttotal: 3.91s\tremaining: 717ms\n",
      "845:\tlearn: 70.5558282\ttotal: 3.91s\tremaining: 712ms\n",
      "846:\tlearn: 70.5438158\ttotal: 3.92s\tremaining: 707ms\n",
      "847:\tlearn: 70.5234562\ttotal: 3.92s\tremaining: 703ms\n",
      "848:\tlearn: 70.4978588\ttotal: 3.92s\tremaining: 698ms\n",
      "849:\tlearn: 70.4854190\ttotal: 3.93s\tremaining: 693ms\n",
      "850:\tlearn: 70.4679081\ttotal: 3.93s\tremaining: 688ms\n",
      "851:\tlearn: 70.4563168\ttotal: 3.94s\tremaining: 684ms\n",
      "852:\tlearn: 70.4490243\ttotal: 3.94s\tremaining: 679ms\n",
      "853:\tlearn: 70.4218875\ttotal: 3.94s\tremaining: 674ms\n",
      "854:\tlearn: 70.3038190\ttotal: 3.95s\tremaining: 670ms\n",
      "855:\tlearn: 70.2922265\ttotal: 3.95s\tremaining: 665ms\n",
      "856:\tlearn: 70.2810645\ttotal: 3.96s\tremaining: 660ms\n",
      "857:\tlearn: 70.2673933\ttotal: 3.96s\tremaining: 655ms\n",
      "858:\tlearn: 70.2484154\ttotal: 3.96s\tremaining: 651ms\n",
      "859:\tlearn: 70.2230195\ttotal: 3.97s\tremaining: 646ms\n",
      "860:\tlearn: 70.2092780\ttotal: 3.97s\tremaining: 641ms\n",
      "861:\tlearn: 70.0952330\ttotal: 3.98s\tremaining: 637ms\n",
      "862:\tlearn: 70.0694573\ttotal: 3.98s\tremaining: 632ms\n",
      "863:\tlearn: 70.0365371\ttotal: 3.98s\tremaining: 627ms\n",
      "864:\tlearn: 70.0123137\ttotal: 3.99s\tremaining: 623ms\n",
      "865:\tlearn: 69.9998571\ttotal: 3.99s\tremaining: 618ms\n",
      "866:\tlearn: 69.9848188\ttotal: 4s\tremaining: 613ms\n",
      "867:\tlearn: 69.9566638\ttotal: 4s\tremaining: 609ms\n",
      "868:\tlearn: 69.9257456\ttotal: 4.01s\tremaining: 604ms\n",
      "869:\tlearn: 69.9161141\ttotal: 4.01s\tremaining: 599ms\n",
      "870:\tlearn: 69.8949548\ttotal: 4.01s\tremaining: 595ms\n",
      "871:\tlearn: 69.8404582\ttotal: 4.02s\tremaining: 590ms\n",
      "872:\tlearn: 69.8274204\ttotal: 4.02s\tremaining: 585ms\n",
      "873:\tlearn: 69.7963797\ttotal: 4.03s\tremaining: 581ms\n",
      "874:\tlearn: 69.7774284\ttotal: 4.03s\tremaining: 576ms\n",
      "875:\tlearn: 69.7574480\ttotal: 4.04s\tremaining: 572ms\n",
      "876:\tlearn: 69.7333823\ttotal: 4.04s\tremaining: 567ms\n",
      "877:\tlearn: 69.7071638\ttotal: 4.04s\tremaining: 562ms\n",
      "878:\tlearn: 69.6544206\ttotal: 4.05s\tremaining: 557ms\n",
      "879:\tlearn: 69.6282155\ttotal: 4.05s\tremaining: 553ms\n",
      "880:\tlearn: 69.6031266\ttotal: 4.06s\tremaining: 548ms\n",
      "881:\tlearn: 69.5787922\ttotal: 4.06s\tremaining: 544ms\n",
      "882:\tlearn: 69.5615362\ttotal: 4.07s\tremaining: 539ms\n",
      "883:\tlearn: 69.5544017\ttotal: 4.07s\tremaining: 534ms\n",
      "884:\tlearn: 69.4851696\ttotal: 4.08s\tremaining: 530ms\n",
      "885:\tlearn: 69.4803928\ttotal: 4.08s\tremaining: 525ms\n",
      "886:\tlearn: 69.3262240\ttotal: 4.08s\tremaining: 520ms\n",
      "887:\tlearn: 69.3076412\ttotal: 4.09s\tremaining: 516ms\n",
      "888:\tlearn: 69.1944503\ttotal: 4.09s\tremaining: 511ms\n",
      "889:\tlearn: 69.1788964\ttotal: 4.1s\tremaining: 506ms\n",
      "890:\tlearn: 69.1366056\ttotal: 4.1s\tremaining: 502ms\n",
      "891:\tlearn: 69.1294698\ttotal: 4.1s\tremaining: 497ms\n",
      "892:\tlearn: 69.1221509\ttotal: 4.11s\tremaining: 492ms\n",
      "893:\tlearn: 69.1038202\ttotal: 4.11s\tremaining: 488ms\n",
      "894:\tlearn: 69.0554698\ttotal: 4.12s\tremaining: 483ms\n",
      "895:\tlearn: 69.0303959\ttotal: 4.12s\tremaining: 478ms\n",
      "896:\tlearn: 69.0095415\ttotal: 4.12s\tremaining: 473ms\n",
      "897:\tlearn: 68.9702554\ttotal: 4.13s\tremaining: 469ms\n",
      "898:\tlearn: 68.9511497\ttotal: 4.13s\tremaining: 464ms\n",
      "899:\tlearn: 68.9244311\ttotal: 4.13s\tremaining: 460ms\n",
      "900:\tlearn: 68.8175593\ttotal: 4.14s\tremaining: 455ms\n",
      "901:\tlearn: 68.8031987\ttotal: 4.14s\tremaining: 450ms\n",
      "902:\tlearn: 68.7752602\ttotal: 4.15s\tremaining: 446ms\n",
      "903:\tlearn: 68.7592363\ttotal: 4.15s\tremaining: 441ms\n",
      "904:\tlearn: 68.7379437\ttotal: 4.16s\tremaining: 436ms\n",
      "905:\tlearn: 68.7100888\ttotal: 4.16s\tremaining: 432ms\n",
      "906:\tlearn: 68.6917012\ttotal: 4.16s\tremaining: 427ms\n",
      "907:\tlearn: 68.6817605\ttotal: 4.17s\tremaining: 422ms\n",
      "908:\tlearn: 68.6556384\ttotal: 4.17s\tremaining: 418ms\n",
      "909:\tlearn: 68.6452152\ttotal: 4.18s\tremaining: 413ms\n",
      "910:\tlearn: 68.6169312\ttotal: 4.18s\tremaining: 408ms\n",
      "911:\tlearn: 68.5972591\ttotal: 4.18s\tremaining: 404ms\n",
      "912:\tlearn: 68.5936444\ttotal: 4.19s\tremaining: 399ms\n",
      "913:\tlearn: 68.5910393\ttotal: 4.19s\tremaining: 395ms\n",
      "914:\tlearn: 68.5712656\ttotal: 4.2s\tremaining: 390ms\n",
      "915:\tlearn: 68.5552803\ttotal: 4.2s\tremaining: 385ms\n",
      "916:\tlearn: 68.5221391\ttotal: 4.21s\tremaining: 381ms\n",
      "917:\tlearn: 68.5069521\ttotal: 4.21s\tremaining: 376ms\n",
      "918:\tlearn: 68.4951843\ttotal: 4.21s\tremaining: 372ms\n",
      "919:\tlearn: 68.4939753\ttotal: 4.22s\tremaining: 367ms\n",
      "920:\tlearn: 68.4799551\ttotal: 4.22s\tremaining: 362ms\n",
      "921:\tlearn: 68.4585275\ttotal: 4.23s\tremaining: 358ms\n",
      "922:\tlearn: 68.3872288\ttotal: 4.23s\tremaining: 353ms\n",
      "923:\tlearn: 68.3483894\ttotal: 4.24s\tremaining: 349ms\n",
      "924:\tlearn: 68.3152927\ttotal: 4.24s\tremaining: 344ms\n",
      "925:\tlearn: 68.2918127\ttotal: 4.25s\tremaining: 339ms\n",
      "926:\tlearn: 68.2673927\ttotal: 4.25s\tremaining: 335ms\n",
      "927:\tlearn: 68.2457253\ttotal: 4.25s\tremaining: 330ms\n",
      "928:\tlearn: 68.2426154\ttotal: 4.26s\tremaining: 325ms\n",
      "929:\tlearn: 68.2078008\ttotal: 4.26s\tremaining: 321ms\n",
      "930:\tlearn: 68.1944968\ttotal: 4.27s\tremaining: 316ms\n",
      "931:\tlearn: 68.1819230\ttotal: 4.27s\tremaining: 312ms\n",
      "932:\tlearn: 68.1573054\ttotal: 4.27s\tremaining: 307ms\n",
      "933:\tlearn: 68.1364901\ttotal: 4.28s\tremaining: 302ms\n",
      "934:\tlearn: 68.1203068\ttotal: 4.28s\tremaining: 298ms\n",
      "935:\tlearn: 68.1026044\ttotal: 4.29s\tremaining: 293ms\n",
      "936:\tlearn: 68.0736068\ttotal: 4.29s\tremaining: 288ms\n",
      "937:\tlearn: 68.0559044\ttotal: 4.29s\tremaining: 284ms\n",
      "938:\tlearn: 68.0437682\ttotal: 4.3s\tremaining: 279ms\n",
      "939:\tlearn: 68.0198920\ttotal: 4.3s\tremaining: 275ms\n",
      "940:\tlearn: 68.0024107\ttotal: 4.31s\tremaining: 270ms\n",
      "941:\tlearn: 67.9984766\ttotal: 4.31s\tremaining: 265ms\n",
      "942:\tlearn: 67.9736498\ttotal: 4.31s\tremaining: 261ms\n",
      "943:\tlearn: 67.9587348\ttotal: 4.32s\tremaining: 256ms\n",
      "944:\tlearn: 67.9437645\ttotal: 4.32s\tremaining: 252ms\n",
      "945:\tlearn: 67.9293327\ttotal: 4.33s\tremaining: 247ms\n",
      "946:\tlearn: 67.9168870\ttotal: 4.33s\tremaining: 242ms\n",
      "947:\tlearn: 67.9126109\ttotal: 4.34s\tremaining: 238ms\n",
      "948:\tlearn: 67.8856537\ttotal: 4.34s\tremaining: 233ms\n",
      "949:\tlearn: 67.8720089\ttotal: 4.34s\tremaining: 229ms\n",
      "950:\tlearn: 67.8428284\ttotal: 4.35s\tremaining: 224ms\n",
      "951:\tlearn: 67.8363351\ttotal: 4.35s\tremaining: 219ms\n",
      "952:\tlearn: 67.8165474\ttotal: 4.36s\tremaining: 215ms\n",
      "953:\tlearn: 67.8030598\ttotal: 4.36s\tremaining: 210ms\n",
      "954:\tlearn: 67.7834395\ttotal: 4.36s\tremaining: 206ms\n",
      "955:\tlearn: 67.7558990\ttotal: 4.37s\tremaining: 201ms\n",
      "956:\tlearn: 67.7488289\ttotal: 4.37s\tremaining: 196ms\n",
      "957:\tlearn: 67.7310143\ttotal: 4.38s\tremaining: 192ms\n",
      "958:\tlearn: 67.7247528\ttotal: 4.38s\tremaining: 187ms\n",
      "959:\tlearn: 67.7034803\ttotal: 4.39s\tremaining: 183ms\n",
      "960:\tlearn: 67.6799458\ttotal: 4.39s\tremaining: 178ms\n",
      "961:\tlearn: 67.6633363\ttotal: 4.4s\tremaining: 174ms\n",
      "962:\tlearn: 67.6405749\ttotal: 4.4s\tremaining: 169ms\n",
      "963:\tlearn: 67.6073208\ttotal: 4.41s\tremaining: 165ms\n",
      "964:\tlearn: 67.5865005\ttotal: 4.41s\tremaining: 160ms\n",
      "965:\tlearn: 67.5386390\ttotal: 4.41s\tremaining: 155ms\n",
      "966:\tlearn: 67.5255851\ttotal: 4.42s\tremaining: 151ms\n",
      "967:\tlearn: 67.5145905\ttotal: 4.42s\tremaining: 146ms\n",
      "968:\tlearn: 67.4825921\ttotal: 4.43s\tremaining: 142ms\n",
      "969:\tlearn: 67.4567461\ttotal: 4.43s\tremaining: 137ms\n",
      "970:\tlearn: 67.4370792\ttotal: 4.44s\tremaining: 133ms\n",
      "971:\tlearn: 67.4260627\ttotal: 4.44s\tremaining: 128ms\n",
      "972:\tlearn: 67.4094601\ttotal: 4.45s\tremaining: 123ms\n",
      "973:\tlearn: 67.3819593\ttotal: 4.45s\tremaining: 119ms\n",
      "974:\tlearn: 67.3604987\ttotal: 4.45s\tremaining: 114ms\n",
      "975:\tlearn: 67.3521031\ttotal: 4.46s\tremaining: 110ms\n",
      "976:\tlearn: 67.3155504\ttotal: 4.46s\tremaining: 105ms\n",
      "977:\tlearn: 67.3086750\ttotal: 4.47s\tremaining: 100ms\n",
      "978:\tlearn: 67.1676748\ttotal: 4.47s\tremaining: 95.9ms\n",
      "979:\tlearn: 67.1361422\ttotal: 4.47s\tremaining: 91.3ms\n",
      "980:\tlearn: 67.1233468\ttotal: 4.48s\tremaining: 86.7ms\n",
      "981:\tlearn: 67.1120491\ttotal: 4.48s\tremaining: 82.2ms\n",
      "982:\tlearn: 66.9659502\ttotal: 4.49s\tremaining: 77.6ms\n",
      "983:\tlearn: 66.9549729\ttotal: 4.49s\tremaining: 73ms\n",
      "984:\tlearn: 66.9292254\ttotal: 4.5s\tremaining: 68.5ms\n",
      "985:\tlearn: 66.9239554\ttotal: 4.5s\tremaining: 63.9ms\n",
      "986:\tlearn: 66.9210870\ttotal: 4.5s\tremaining: 59.3ms\n",
      "987:\tlearn: 66.8923058\ttotal: 4.51s\tremaining: 54.8ms\n",
      "988:\tlearn: 66.8748881\ttotal: 4.51s\tremaining: 50.2ms\n",
      "989:\tlearn: 66.8741957\ttotal: 4.52s\tremaining: 45.6ms\n",
      "990:\tlearn: 66.8315116\ttotal: 4.52s\tremaining: 41.1ms\n",
      "991:\tlearn: 66.8138137\ttotal: 4.53s\tremaining: 36.5ms\n",
      "992:\tlearn: 66.8071261\ttotal: 4.53s\tremaining: 31.9ms\n",
      "993:\tlearn: 66.7866574\ttotal: 4.53s\tremaining: 27.4ms\n",
      "994:\tlearn: 66.7518652\ttotal: 4.54s\tremaining: 22.8ms\n",
      "995:\tlearn: 66.7481059\ttotal: 4.54s\tremaining: 18.2ms\n",
      "996:\tlearn: 66.7084012\ttotal: 4.54s\tremaining: 13.7ms\n",
      "997:\tlearn: 66.6905155\ttotal: 4.55s\tremaining: 9.12ms\n",
      "998:\tlearn: 66.6791251\ttotal: 4.55s\tremaining: 4.56ms\n",
      "999:\tlearn: 66.6711592\ttotal: 4.56s\tremaining: 0us\n",
      "CatBoostRegressor: \n",
      " \n",
      "Training error: 66.67115925205078 \n",
      "\n",
      "Testing error: 254.7174631668858 \n",
      "\n",
      "\n",
      "\n"
     ]
    }
   ],
   "source": [
    "\n",
    "for key, value in models.items():\n",
    "    value.fit(X_train, y_train)\n",
    "    train_pred= value.predict(X_train)\n",
    "    test_pred= value.predict(X_test)\n",
    "    train_error= np.sqrt(mean_squared_error(y_train, train_pred))\n",
    "    test_error= np.sqrt(mean_squared_error(y_test, test_pred))\n",
    "    print(f\"{key}: \\n \")\n",
    "    print(f\"Training error: {train_error} \\n\")\n",
    "    print(f\"Testing error: {test_error} \\n\")\n",
    "    print('\\n')\n",
    "    "
   ]
  },
  {
   "cell_type": "markdown",
   "id": "theoretical-front",
   "metadata": {
    "papermill": {
     "duration": 0.063907,
     "end_time": "2021-06-01T19:21:47.619408",
     "exception": false,
     "start_time": "2021-06-01T19:21:47.555501",
     "status": "completed"
    },
    "tags": []
   },
   "source": [
    "# **As we can see, RandomForestRegressor is performing best. It is surprising that it performs better CatBoost and XGBoost**"
   ]
  },
  {
   "cell_type": "code",
   "execution_count": 28,
   "id": "ancient-smell",
   "metadata": {
    "execution": {
     "iopub.execute_input": "2021-06-01T19:21:47.750284Z",
     "iopub.status.busy": "2021-06-01T19:21:47.749269Z",
     "iopub.status.idle": "2021-06-01T19:21:47.754444Z",
     "shell.execute_reply": "2021-06-01T19:21:47.753872Z",
     "shell.execute_reply.started": "2021-06-01T18:57:06.253062Z"
    },
    "papermill": {
     "duration": 0.071825,
     "end_time": "2021-06-01T19:21:47.754610",
     "exception": false,
     "start_time": "2021-06-01T19:21:47.682785",
     "status": "completed"
    },
    "tags": []
   },
   "outputs": [
    {
     "data": {
      "text/plain": [
       "array([1855.77867732,  112.83329225,  143.87336239,   83.89633813,\n",
       "         51.40182096])"
      ]
     },
     "execution_count": 28,
     "metadata": {},
     "output_type": "execute_result"
    }
   ],
   "source": [
    "test_pred[:5]"
   ]
  },
  {
   "cell_type": "code",
   "execution_count": 29,
   "id": "lined-sterling",
   "metadata": {
    "execution": {
     "iopub.execute_input": "2021-06-01T19:21:47.886293Z",
     "iopub.status.busy": "2021-06-01T19:21:47.885625Z",
     "iopub.status.idle": "2021-06-01T19:21:47.891819Z",
     "shell.execute_reply": "2021-06-01T19:21:47.890749Z",
     "shell.execute_reply.started": "2021-06-01T18:57:14.906621Z"
    },
    "papermill": {
     "duration": 0.073609,
     "end_time": "2021-06-01T19:21:47.891999",
     "exception": false,
     "start_time": "2021-06-01T19:21:47.818390",
     "status": "completed"
    },
    "tags": []
   },
   "outputs": [
    {
     "data": {
      "text/plain": [
       "12467    1700.0\n",
       "6062      170.0\n",
       "22745     240.0\n",
       "17964     100.0\n",
       "18551      40.0\n",
       "Name: TARGET(PRICE_IN_LACS), dtype: float64"
      ]
     },
     "execution_count": 29,
     "metadata": {},
     "output_type": "execute_result"
    }
   ],
   "source": [
    "y_test[:5]"
   ]
  },
  {
   "cell_type": "markdown",
   "id": "architectural-plastic",
   "metadata": {
    "papermill": {
     "duration": 0.063375,
     "end_time": "2021-06-01T19:21:48.013645",
     "exception": false,
     "start_time": "2021-06-01T19:21:47.950270",
     "status": "completed"
    },
    "tags": []
   },
   "source": [
    "# Hyperparameter Tuning"
   ]
  },
  {
   "cell_type": "code",
   "execution_count": 30,
   "id": "useful-gather",
   "metadata": {
    "execution": {
     "iopub.execute_input": "2021-06-01T19:21:48.142964Z",
     "iopub.status.busy": "2021-06-01T19:21:48.142073Z",
     "iopub.status.idle": "2021-06-01T19:21:48.147219Z",
     "shell.execute_reply": "2021-06-01T19:21:48.146643Z",
     "shell.execute_reply.started": "2021-06-01T19:06:45.264941Z"
    },
    "papermill": {
     "duration": 0.073784,
     "end_time": "2021-06-01T19:21:48.147378",
     "exception": false,
     "start_time": "2021-06-01T19:21:48.073594",
     "status": "completed"
    },
    "tags": []
   },
   "outputs": [],
   "source": [
    "from sklearn.model_selection import RandomizedSearchCV\n",
    "\n",
    "rfr= RandomForestRegressor(criterion='mse', random_state=42)\n",
    "params=dict(n_estimators= [10,50, 100,200],\n",
    "       max_depth= [10,50,100,200],\n",
    "       min_samples_split = [1,2,5,10],\n",
    "       min_samples_leaf=[1,5,10,20])\n",
    "\n",
    "grid= RandomizedSearchCV(rfr, param_distributions=params, cv=5)\n"
   ]
  },
  {
   "cell_type": "code",
   "execution_count": 31,
   "id": "pleasant-analyst",
   "metadata": {
    "execution": {
     "iopub.execute_input": "2021-06-01T19:21:48.282924Z",
     "iopub.status.busy": "2021-06-01T19:21:48.282231Z",
     "iopub.status.idle": "2021-06-01T19:26:54.667780Z",
     "shell.execute_reply": "2021-06-01T19:26:54.668338Z",
     "shell.execute_reply.started": "2021-06-01T19:06:46.754936Z"
    },
    "papermill": {
     "duration": 306.455415,
     "end_time": "2021-06-01T19:26:54.668566",
     "exception": false,
     "start_time": "2021-06-01T19:21:48.213151",
     "status": "completed"
    },
    "tags": []
   },
   "outputs": [
    {
     "data": {
      "text/plain": [
       "RandomizedSearchCV(cv=5, estimator=RandomForestRegressor(random_state=42),\n",
       "                   param_distributions={'max_depth': [10, 50, 100, 200],\n",
       "                                        'min_samples_leaf': [1, 5, 10, 20],\n",
       "                                        'min_samples_split': [1, 2, 5, 10],\n",
       "                                        'n_estimators': [10, 50, 100, 200]})"
      ]
     },
     "execution_count": 31,
     "metadata": {},
     "output_type": "execute_result"
    }
   ],
   "source": [
    "grid.fit(X,y)"
   ]
  },
  {
   "cell_type": "code",
   "execution_count": 32,
   "id": "scheduled-torture",
   "metadata": {
    "execution": {
     "iopub.execute_input": "2021-06-01T19:26:54.789476Z",
     "iopub.status.busy": "2021-06-01T19:26:54.788801Z",
     "iopub.status.idle": "2021-06-01T19:26:54.794680Z",
     "shell.execute_reply": "2021-06-01T19:26:54.795125Z",
     "shell.execute_reply.started": "2021-06-01T19:13:13.792199Z"
    },
    "papermill": {
     "duration": 0.067903,
     "end_time": "2021-06-01T19:26:54.795317",
     "exception": false,
     "start_time": "2021-06-01T19:26:54.727414",
     "status": "completed"
    },
    "tags": []
   },
   "outputs": [
    {
     "data": {
      "text/plain": [
       "RandomForestRegressor(max_depth=100, min_samples_split=5, random_state=42)"
      ]
     },
     "execution_count": 32,
     "metadata": {},
     "output_type": "execute_result"
    }
   ],
   "source": [
    "grid.best_estimator_"
   ]
  },
  {
   "cell_type": "code",
   "execution_count": 33,
   "id": "brutal-protection",
   "metadata": {
    "execution": {
     "iopub.execute_input": "2021-06-01T19:26:54.917916Z",
     "iopub.status.busy": "2021-06-01T19:26:54.917307Z",
     "iopub.status.idle": "2021-06-01T19:26:55.111232Z",
     "shell.execute_reply": "2021-06-01T19:26:55.111761Z",
     "shell.execute_reply.started": "2021-06-01T19:14:05.854669Z"
    },
    "papermill": {
     "duration": 0.257153,
     "end_time": "2021-06-01T19:26:55.111959",
     "exception": false,
     "start_time": "2021-06-01T19:26:54.854806",
     "status": "completed"
    },
    "tags": []
   },
   "outputs": [
    {
     "data": {
      "text/plain": [
       "64.47861003152427"
      ]
     },
     "execution_count": 33,
     "metadata": {},
     "output_type": "execute_result"
    }
   ],
   "source": [
    "pred= grid.best_estimator_.predict(X_test)\n",
    "np.sqrt(mean_squared_error(y_test, pred))"
   ]
  },
  {
   "cell_type": "markdown",
   "id": "individual-invitation",
   "metadata": {
    "papermill": {
     "duration": 0.063543,
     "end_time": "2021-06-01T19:26:55.236853",
     "exception": false,
     "start_time": "2021-06-01T19:26:55.173310",
     "status": "completed"
    },
    "tags": []
   },
   "source": [
    "# The score has improved significantly after hyperparameter tuning"
   ]
  },
  {
   "cell_type": "code",
   "execution_count": 34,
   "id": "owned-sunset",
   "metadata": {
    "execution": {
     "iopub.execute_input": "2021-06-01T19:26:55.360857Z",
     "iopub.status.busy": "2021-06-01T19:26:55.360221Z",
     "iopub.status.idle": "2021-06-01T19:26:57.091371Z",
     "shell.execute_reply": "2021-06-01T19:26:57.090699Z",
     "shell.execute_reply.started": "2021-06-01T19:15:07.944443Z"
    },
    "papermill": {
     "duration": 1.79296,
     "end_time": "2021-06-01T19:26:57.091540",
     "exception": false,
     "start_time": "2021-06-01T19:26:55.298580",
     "status": "completed"
    },
    "tags": []
   },
   "outputs": [],
   "source": [
    "final_predictions= grid.best_estimator_.predict(test)"
   ]
  },
  {
   "cell_type": "code",
   "execution_count": 35,
   "id": "white-foster",
   "metadata": {
    "execution": {
     "iopub.execute_input": "2021-06-01T19:26:57.216848Z",
     "iopub.status.busy": "2021-06-01T19:26:57.216182Z",
     "iopub.status.idle": "2021-06-01T19:26:57.249179Z",
     "shell.execute_reply": "2021-06-01T19:26:57.249679Z",
     "shell.execute_reply.started": "2021-06-01T19:16:04.041166Z"
    },
    "papermill": {
     "duration": 0.098581,
     "end_time": "2021-06-01T19:26:57.249848",
     "exception": false,
     "start_time": "2021-06-01T19:26:57.151267",
     "status": "completed"
    },
    "tags": []
   },
   "outputs": [
    {
     "data": {
      "text/html": [
       "<div>\n",
       "<style scoped>\n",
       "    .dataframe tbody tr th:only-of-type {\n",
       "        vertical-align: middle;\n",
       "    }\n",
       "\n",
       "    .dataframe tbody tr th {\n",
       "        vertical-align: top;\n",
       "    }\n",
       "\n",
       "    .dataframe thead th {\n",
       "        text-align: right;\n",
       "    }\n",
       "</style>\n",
       "<table border=\"1\" class=\"dataframe\">\n",
       "  <thead>\n",
       "    <tr style=\"text-align: right;\">\n",
       "      <th></th>\n",
       "      <th>TARGET(PRICE_IN_LACS)</th>\n",
       "    </tr>\n",
       "  </thead>\n",
       "  <tbody>\n",
       "    <tr>\n",
       "      <th>0</th>\n",
       "      <td>0.0</td>\n",
       "    </tr>\n",
       "    <tr>\n",
       "      <th>1</th>\n",
       "      <td>0.0</td>\n",
       "    </tr>\n",
       "    <tr>\n",
       "      <th>2</th>\n",
       "      <td>0.0</td>\n",
       "    </tr>\n",
       "    <tr>\n",
       "      <th>3</th>\n",
       "      <td>0.0</td>\n",
       "    </tr>\n",
       "    <tr>\n",
       "      <th>4</th>\n",
       "      <td>0.0</td>\n",
       "    </tr>\n",
       "  </tbody>\n",
       "</table>\n",
       "</div>"
      ],
      "text/plain": [
       "   TARGET(PRICE_IN_LACS)\n",
       "0                    0.0\n",
       "1                    0.0\n",
       "2                    0.0\n",
       "3                    0.0\n",
       "4                    0.0"
      ]
     },
     "execution_count": 35,
     "metadata": {},
     "output_type": "execute_result"
    }
   ],
   "source": [
    "sample= pd.read_csv('/kaggle/input/house-price-prediction-challenge/sample_submission.csv')\n",
    "sample.head()"
   ]
  },
  {
   "cell_type": "code",
   "execution_count": 36,
   "id": "technical-michigan",
   "metadata": {
    "execution": {
     "iopub.execute_input": "2021-06-01T19:26:57.374051Z",
     "iopub.status.busy": "2021-06-01T19:26:57.373100Z",
     "iopub.status.idle": "2021-06-01T19:26:57.379939Z",
     "shell.execute_reply": "2021-06-01T19:26:57.379328Z",
     "shell.execute_reply.started": "2021-06-01T19:16:13.144659Z"
    },
    "papermill": {
     "duration": 0.069219,
     "end_time": "2021-06-01T19:26:57.380107",
     "exception": false,
     "start_time": "2021-06-01T19:26:57.310888",
     "status": "completed"
    },
    "tags": []
   },
   "outputs": [
    {
     "data": {
      "text/plain": [
       "(68720, 1)"
      ]
     },
     "execution_count": 36,
     "metadata": {},
     "output_type": "execute_result"
    }
   ],
   "source": [
    "sample.shape"
   ]
  },
  {
   "cell_type": "code",
   "execution_count": 37,
   "id": "insured-silence",
   "metadata": {
    "execution": {
     "iopub.execute_input": "2021-06-01T19:26:57.508719Z",
     "iopub.status.busy": "2021-06-01T19:26:57.508058Z",
     "iopub.status.idle": "2021-06-01T19:26:57.511169Z",
     "shell.execute_reply": "2021-06-01T19:26:57.511698Z",
     "shell.execute_reply.started": "2021-06-01T19:16:21.978353Z"
    },
    "papermill": {
     "duration": 0.070334,
     "end_time": "2021-06-01T19:26:57.511890",
     "exception": false,
     "start_time": "2021-06-01T19:26:57.441556",
     "status": "completed"
    },
    "tags": []
   },
   "outputs": [
    {
     "data": {
      "text/plain": [
       "(68720,)"
      ]
     },
     "execution_count": 37,
     "metadata": {},
     "output_type": "execute_result"
    }
   ],
   "source": [
    "final_predictions.shape"
   ]
  },
  {
   "cell_type": "code",
   "execution_count": 38,
   "id": "cardiac-while",
   "metadata": {
    "execution": {
     "iopub.execute_input": "2021-06-01T19:26:57.638004Z",
     "iopub.status.busy": "2021-06-01T19:26:57.637284Z",
     "iopub.status.idle": "2021-06-01T19:26:57.647230Z",
     "shell.execute_reply": "2021-06-01T19:26:57.647800Z",
     "shell.execute_reply.started": "2021-06-01T19:16:52.835134Z"
    },
    "papermill": {
     "duration": 0.074785,
     "end_time": "2021-06-01T19:26:57.647992",
     "exception": false,
     "start_time": "2021-06-01T19:26:57.573207",
     "status": "completed"
    },
    "tags": []
   },
   "outputs": [
    {
     "data": {
      "text/html": [
       "<div>\n",
       "<style scoped>\n",
       "    .dataframe tbody tr th:only-of-type {\n",
       "        vertical-align: middle;\n",
       "    }\n",
       "\n",
       "    .dataframe tbody tr th {\n",
       "        vertical-align: top;\n",
       "    }\n",
       "\n",
       "    .dataframe thead th {\n",
       "        text-align: right;\n",
       "    }\n",
       "</style>\n",
       "<table border=\"1\" class=\"dataframe\">\n",
       "  <thead>\n",
       "    <tr style=\"text-align: right;\">\n",
       "      <th></th>\n",
       "      <th>TARGET(PRICE_IN_LACS)</th>\n",
       "    </tr>\n",
       "  </thead>\n",
       "  <tbody>\n",
       "    <tr>\n",
       "      <th>0</th>\n",
       "      <td>19.780378</td>\n",
       "    </tr>\n",
       "    <tr>\n",
       "      <th>1</th>\n",
       "      <td>74.348027</td>\n",
       "    </tr>\n",
       "    <tr>\n",
       "      <th>2</th>\n",
       "      <td>70.769937</td>\n",
       "    </tr>\n",
       "    <tr>\n",
       "      <th>3</th>\n",
       "      <td>50.312158</td>\n",
       "    </tr>\n",
       "    <tr>\n",
       "      <th>4</th>\n",
       "      <td>11.841584</td>\n",
       "    </tr>\n",
       "  </tbody>\n",
       "</table>\n",
       "</div>"
      ],
      "text/plain": [
       "   TARGET(PRICE_IN_LACS)\n",
       "0              19.780378\n",
       "1              74.348027\n",
       "2              70.769937\n",
       "3              50.312158\n",
       "4              11.841584"
      ]
     },
     "execution_count": 38,
     "metadata": {},
     "output_type": "execute_result"
    }
   ],
   "source": [
    "sample['TARGET(PRICE_IN_LACS)']= final_predictions\n",
    "sample.head()"
   ]
  },
  {
   "cell_type": "code",
   "execution_count": 39,
   "id": "amazing-exhaust",
   "metadata": {
    "execution": {
     "iopub.execute_input": "2021-06-01T19:26:57.772722Z",
     "iopub.status.busy": "2021-06-01T19:26:57.771966Z",
     "iopub.status.idle": "2021-06-01T19:26:58.018748Z",
     "shell.execute_reply": "2021-06-01T19:26:58.019289Z",
     "shell.execute_reply.started": "2021-06-01T19:17:14.299113Z"
    },
    "papermill": {
     "duration": 0.310872,
     "end_time": "2021-06-01T19:26:58.019518",
     "exception": false,
     "start_time": "2021-06-01T19:26:57.708646",
     "status": "completed"
    },
    "tags": []
   },
   "outputs": [],
   "source": [
    "sample.to_csv('predictions.csv', index=False)"
   ]
  },
  {
   "cell_type": "markdown",
   "id": "completed-elephant",
   "metadata": {
    "papermill": {
     "duration": 0.062768,
     "end_time": "2021-06-01T19:26:58.147531",
     "exception": false,
     "start_time": "2021-06-01T19:26:58.084763",
     "status": "completed"
    },
    "tags": []
   },
   "source": [
    "# Upvote and Comment if you liked my notebook :)"
   ]
  },
  {
   "cell_type": "code",
   "execution_count": null,
   "id": "focused-admission",
   "metadata": {
    "papermill": {
     "duration": 0.059909,
     "end_time": "2021-06-01T19:26:58.268599",
     "exception": false,
     "start_time": "2021-06-01T19:26:58.208690",
     "status": "completed"
    },
    "tags": []
   },
   "outputs": [],
   "source": []
  }
 ],
 "metadata": {
  "kernelspec": {
   "display_name": "Python 3",
   "language": "python",
   "name": "python3"
  },
  "language_info": {
   "codemirror_mode": {
    "name": "ipython",
    "version": 3
   },
   "file_extension": ".py",
   "mimetype": "text/x-python",
   "name": "python",
   "nbconvert_exporter": "python",
   "pygments_lexer": "ipython3",
   "version": "3.7.10"
  },
  "papermill": {
   "default_parameters": {},
   "duration": 351.130376,
   "end_time": "2021-06-01T19:26:59.242074",
   "environment_variables": {},
   "exception": null,
   "input_path": "__notebook__.ipynb",
   "output_path": "__notebook__.ipynb",
   "parameters": {},
   "start_time": "2021-06-01T19:21:08.111698",
   "version": "2.3.3"
  }
 },
 "nbformat": 4,
 "nbformat_minor": 5
}
